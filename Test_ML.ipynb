{
 "cells": [
  {
   "cell_type": "markdown",
   "metadata": {
    "id": "mDwSk2Tkg4Ng"
   },
   "source": [
    "# Part I : Quel(le) data scientist êtes-vous ?\n",
    "## Contexte de l’analyse\n",
    "\n",
    "Elu métier le plus sexy par la Harvard Business Review en octobre 2012, le data scientist représente un profil rare qui exige de nombreuses compétences.\n",
    "\n",
    "A partir d'un dataset Aquila, vous réaliserez :\n",
    "- un clustering non supervisé afin d'identifier 2 groupes de profils techniques distinctes\n",
    "- une prédiction des profils dont le métier n'est pas labellisé\n",
    "\n",
    "\n",
    "## Données\n",
    "data.csv contient 6 variables : \n",
    "    - 'Entreprise' correspond à une liste d'entreprises fictive\n",
    "    - 'Metier' correspond au métier parmi data scientist, lead data scientist, data engineer et data architecte\n",
    "    - 'Technologies' correspond aux compétences maîtrisées par le profil\n",
    "    - 'Diplome' correspond à son niveau scolaire (Bac, Master, PhD,...)\n",
    "    - 'Experience' correspond au nombre d'années d'expériences\n",
    "    - 'Ville' correspond au lieu de travail\n",
    "    \n",
    "\n",
    "\n",
    "## Répondez aux questions \n",
    "\n",
    "Bonne chance!"
   ]
  },
  {
   "cell_type": "code",
   "execution_count": 1,
   "metadata": {
    "id": "lXMc-XCTg4Nl"
   },
   "outputs": [],
   "source": [
    "# Import des libraries classique (numpy, pandas, ...)\n",
    "import pandas as pd\n",
    "import numpy as np\n",
    "import re\n",
    "import sklearn as sk\n",
    "import seaborn as sb\n",
    "from matplotlib import pyplot as plt\n",
    "plt.style.use('ggplot')"
   ]
  },
  {
   "cell_type": "markdown",
   "metadata": {
    "id": "okw7Odvhg4P7"
   },
   "source": [
    "### 1) Importer le tableau de données dans un dataframe "
   ]
  },
  {
   "cell_type": "code",
   "execution_count": 2,
   "metadata": {
    "colab": {
     "base_uri": "https://localhost:8080/",
     "height": 134
    },
    "id": "FqOJF1Ofg4SN",
    "outputId": "8cba4446-2e08-42d6-f7c2-4db9c249bc42"
   },
   "outputs": [],
   "source": [
    "# Import du dataframe \"data.csv\"\n",
    "df = pd.read_csv('data.csv')"
   ]
  },
  {
   "cell_type": "markdown",
   "metadata": {
    "id": "jYHZ2rF8g4TY"
   },
   "source": [
    "### 2) Combien y a t-il d'observations dans ce dataset? Y a t-il des valeurs manquantes? "
   ]
  },
  {
   "cell_type": "markdown",
   "metadata": {
    "id": "dHdXHnQDjecR"
   },
   "source": [
    "## Ligne "
   ]
  },
  {
   "cell_type": "code",
   "execution_count": 3,
   "metadata": {
    "colab": {
     "base_uri": "https://localhost:8080/",
     "height": 35
    },
    "id": "JUdNZaFDjbcE",
    "outputId": "80370872-3d17-4517-936f-622387236429"
   },
   "outputs": [
    {
     "data": {
      "text/plain": [
       "9582"
      ]
     },
     "execution_count": 3,
     "metadata": {},
     "output_type": "execute_result"
    }
   ],
   "source": [
    "df.shape[0]"
   ]
  },
  {
   "cell_type": "markdown",
   "metadata": {
    "id": "zl5spolOjpBJ"
   },
   "source": [
    "## Valeur manquante"
   ]
  },
  {
   "cell_type": "code",
   "execution_count": 4,
   "metadata": {
    "colab": {
     "base_uri": "https://localhost:8080/",
     "height": 144
    },
    "id": "16bz3S-Ng4Tf",
    "outputId": "c27d6ab9-8114-4e54-997c-c51ffa417af0"
   },
   "outputs": [
    {
     "data": {
      "text/plain": [
       "Entreprise      17\n",
       "Metier          19\n",
       "Technologies     0\n",
       "Diplome          0\n",
       "Experience      94\n",
       "Ville            0\n",
       "dtype: int64"
      ]
     },
     "execution_count": 4,
     "metadata": {},
     "output_type": "execute_result"
    }
   ],
   "source": [
    "df.isna().sum()"
   ]
  },
  {
   "cell_type": "markdown",
   "metadata": {
    "id": "CBaxDu15g4Tw"
   },
   "source": [
    "### 3) Réaliser l'imputation des valeurs manquantes pour la variable \"Experience\" avec : \n",
    "- la valeur médiane pour les data scientists\n",
    "- la valeur moyenne pour les data engineers"
   ]
  },
  {
   "cell_type": "markdown",
   "metadata": {
    "id": "GVa7Fg3cpQNg"
   },
   "source": [
    "## DataCleaning"
   ]
  },
  {
   "cell_type": "code",
   "execution_count": 5,
   "metadata": {
    "id": "hw6PbTiipUCe"
   },
   "outputs": [],
   "source": [
    "# Remplacer les \",\" par des \".\"\n",
    "df.Experience = df[\"Experience\"].str.replace(\",\",\".\")\n",
    "\n",
    "# Convertir Ecperience vers float\n",
    "\n",
    "df = df.astype({\"Experience\" : float})\n",
    "\n",
    "# Preparer les filtres \n",
    "\n",
    "dataSci = df[\"Metier\"].str.match(\"data scientist\",case =False,na = False)\n",
    "dataEng = df[\"Metier\"].str.match(\"Data engineer\",case =False,na = False)\n",
    "LeadDataScien = df[\"Metier\"].str.match(\"Lead data scientist\",case =False,na = False)\n",
    "DataArchi = df[\"Metier\"].str.match(\"Data architecte\",case =False,na = False)\n"
   ]
  },
  {
   "cell_type": "code",
   "execution_count": 6,
   "metadata": {
    "colab": {
     "base_uri": "https://localhost:8080/",
     "height": 253
    },
    "id": "l0SUVKuWpBx6",
    "outputId": "b01e3d7f-869d-49d0-bf79-fa73740ef2ff"
   },
   "outputs": [
    {
     "name": "stdout",
     "output_type": "stream",
     "text": [
      "<class 'pandas.core.frame.DataFrame'>\n",
      "RangeIndex: 9582 entries, 0 to 9581\n",
      "Data columns (total 6 columns):\n",
      "Entreprise      9565 non-null object\n",
      "Metier          9563 non-null object\n",
      "Technologies    9582 non-null object\n",
      "Diplome         9582 non-null object\n",
      "Experience      9488 non-null float64\n",
      "Ville           9582 non-null object\n",
      "dtypes: float64(1), object(5)\n",
      "memory usage: 449.3+ KB\n"
     ]
    }
   ],
   "source": [
    "df.info()"
   ]
  },
  {
   "cell_type": "code",
   "execution_count": 7,
   "metadata": {
    "colab": {
     "base_uri": "https://localhost:8080/",
     "height": 53
    },
    "id": "eqkn81eVn36A",
    "outputId": "56685c8c-fb06-4fdc-fd45-26784ab3ef16"
   },
   "outputs": [
    {
     "name": "stdout",
     "output_type": "stream",
     "text": [
      "median =  2.0\n",
      "moyenne =  2.984959174903309\n"
     ]
    }
   ],
   "source": [
    "medianDataSci = df.loc[dataSci, 'Experience'].median()\n",
    "moyenneDataEng = df.loc[dataEng, 'Experience'].mean()\n",
    "print(\"median = \",medianDataSci)\n",
    "print(\"moyenne = \",moyenneDataEng)"
   ]
  },
  {
   "cell_type": "code",
   "execution_count": 8,
   "metadata": {
    "id": "gvfWuB5FkZGw"
   },
   "outputs": [],
   "source": [
    "# Remplacer les valeurs manquantes par la médian\n",
    "df.loc[dataSci & df['Experience'].isnull(), 'Experience'] = medianDataSci"
   ]
  },
  {
   "cell_type": "code",
   "execution_count": 9,
   "metadata": {
    "id": "7JumgK9CsO1Y"
   },
   "outputs": [],
   "source": [
    "# Remplacer les valeurs manquantes par la moyenne\n",
    "\n",
    "df.loc[dataEng & df['Experience'].isnull(), 'Experience'] = moyenneDataEng"
   ]
  },
  {
   "cell_type": "code",
   "execution_count": 10,
   "metadata": {
    "colab": {
     "base_uri": "https://localhost:8080/",
     "height": 424
    },
    "id": "yrXYJWrirb0n",
    "outputId": "3fffb720-7ad7-422c-9b49-1f498786be09"
   },
   "outputs": [
    {
     "data": {
      "text/html": [
       "<div>\n",
       "<style scoped>\n",
       "    .dataframe tbody tr th:only-of-type {\n",
       "        vertical-align: middle;\n",
       "    }\n",
       "\n",
       "    .dataframe tbody tr th {\n",
       "        vertical-align: top;\n",
       "    }\n",
       "\n",
       "    .dataframe thead th {\n",
       "        text-align: right;\n",
       "    }\n",
       "</style>\n",
       "<table border=\"1\" class=\"dataframe\">\n",
       "  <thead>\n",
       "    <tr style=\"text-align: right;\">\n",
       "      <th></th>\n",
       "      <th>Entreprise</th>\n",
       "      <th>Metier</th>\n",
       "      <th>Technologies</th>\n",
       "      <th>Diplome</th>\n",
       "      <th>Experience</th>\n",
       "      <th>Ville</th>\n",
       "    </tr>\n",
       "  </thead>\n",
       "  <tbody>\n",
       "    <tr>\n",
       "      <td>0</td>\n",
       "      <td>Sanofi</td>\n",
       "      <td>Data scientist</td>\n",
       "      <td>Matlab/Python/Pyspark/Scikit-learn/Tensorflow</td>\n",
       "      <td>Master</td>\n",
       "      <td>1.0</td>\n",
       "      <td>Paris</td>\n",
       "    </tr>\n",
       "    <tr>\n",
       "      <td>1</td>\n",
       "      <td>Massachusetts General Hospital(MGH)</td>\n",
       "      <td>Data architecte</td>\n",
       "      <td>Python/Java/Scala/MongoDB</td>\n",
       "      <td>Master</td>\n",
       "      <td>3.0</td>\n",
       "      <td>Marseille</td>\n",
       "    </tr>\n",
       "    <tr>\n",
       "      <td>2</td>\n",
       "      <td>Delve</td>\n",
       "      <td>Lead data scientist</td>\n",
       "      <td>SPSS/SQL/Teradata/R/Python/Tensorflow/scikit-l...</td>\n",
       "      <td>Master</td>\n",
       "      <td>3.0</td>\n",
       "      <td>Nantes</td>\n",
       "    </tr>\n",
       "    <tr>\n",
       "      <td>3</td>\n",
       "      <td>Ann &amp; Robert H. Lurie Children’s Hospital of C...</td>\n",
       "      <td>Data scientist</td>\n",
       "      <td>C/C++/Java/Python</td>\n",
       "      <td>Master</td>\n",
       "      <td>1.5</td>\n",
       "      <td>Marseille</td>\n",
       "    </tr>\n",
       "    <tr>\n",
       "      <td>4</td>\n",
       "      <td>Arm</td>\n",
       "      <td>Data scientist</td>\n",
       "      <td>Matlab/Python/C++/numpy/Tensorflow/scikit-learn</td>\n",
       "      <td>Phd</td>\n",
       "      <td>2.0</td>\n",
       "      <td>Bordeaux</td>\n",
       "    </tr>\n",
       "    <tr>\n",
       "      <td>...</td>\n",
       "      <td>...</td>\n",
       "      <td>...</td>\n",
       "      <td>...</td>\n",
       "      <td>...</td>\n",
       "      <td>...</td>\n",
       "      <td>...</td>\n",
       "    </tr>\n",
       "    <tr>\n",
       "      <td>95</td>\n",
       "      <td>Cognitive Scale</td>\n",
       "      <td>Data scientist</td>\n",
       "      <td>C++/R/Python/Matlab/Matplotlib</td>\n",
       "      <td>Master</td>\n",
       "      <td>0.5</td>\n",
       "      <td>Lille</td>\n",
       "    </tr>\n",
       "    <tr>\n",
       "      <td>96</td>\n",
       "      <td>R/GA</td>\n",
       "      <td>Data scientist</td>\n",
       "      <td>Python/R/machine learning/Excel/VBA/C++</td>\n",
       "      <td>Master</td>\n",
       "      <td>4.0</td>\n",
       "      <td>Lyon</td>\n",
       "    </tr>\n",
       "    <tr>\n",
       "      <td>97</td>\n",
       "      <td>Covance</td>\n",
       "      <td>Data engineer</td>\n",
       "      <td>Map-Reduce/HDFS/PIG/HBASE/Python/Cassandra</td>\n",
       "      <td>Phd</td>\n",
       "      <td>1.5</td>\n",
       "      <td>Bordeaux</td>\n",
       "    </tr>\n",
       "    <tr>\n",
       "      <td>98</td>\n",
       "      <td>Nift Networks</td>\n",
       "      <td>Data engineer</td>\n",
       "      <td>AWS/Python/C/C++/Docker</td>\n",
       "      <td>Master</td>\n",
       "      <td>2.0</td>\n",
       "      <td>Bordeaux</td>\n",
       "    </tr>\n",
       "    <tr>\n",
       "      <td>99</td>\n",
       "      <td>DELL</td>\n",
       "      <td>Data scientist</td>\n",
       "      <td>Excel/Python/Matlab/R/machine learning/anglais</td>\n",
       "      <td>Master</td>\n",
       "      <td>2.5</td>\n",
       "      <td>Paris</td>\n",
       "    </tr>\n",
       "  </tbody>\n",
       "</table>\n",
       "<p>100 rows × 6 columns</p>\n",
       "</div>"
      ],
      "text/plain": [
       "                                           Entreprise               Metier  \\\n",
       "0                                              Sanofi       Data scientist   \n",
       "1                 Massachusetts General Hospital(MGH)      Data architecte   \n",
       "2                                               Delve  Lead data scientist   \n",
       "3   Ann & Robert H. Lurie Children’s Hospital of C...       Data scientist   \n",
       "4                                                 Arm       Data scientist   \n",
       "..                                                ...                  ...   \n",
       "95                                    Cognitive Scale       Data scientist   \n",
       "96                                               R/GA       Data scientist   \n",
       "97                                            Covance        Data engineer   \n",
       "98                                      Nift Networks        Data engineer   \n",
       "99                                               DELL       Data scientist   \n",
       "\n",
       "                                         Technologies Diplome  Experience  \\\n",
       "0       Matlab/Python/Pyspark/Scikit-learn/Tensorflow  Master         1.0   \n",
       "1                           Python/Java/Scala/MongoDB  Master         3.0   \n",
       "2   SPSS/SQL/Teradata/R/Python/Tensorflow/scikit-l...  Master         3.0   \n",
       "3                                   C/C++/Java/Python  Master         1.5   \n",
       "4     Matlab/Python/C++/numpy/Tensorflow/scikit-learn     Phd         2.0   \n",
       "..                                                ...     ...         ...   \n",
       "95                     C++/R/Python/Matlab/Matplotlib  Master         0.5   \n",
       "96            Python/R/machine learning/Excel/VBA/C++  Master         4.0   \n",
       "97         Map-Reduce/HDFS/PIG/HBASE/Python/Cassandra     Phd         1.5   \n",
       "98                            AWS/Python/C/C++/Docker  Master         2.0   \n",
       "99     Excel/Python/Matlab/R/machine learning/anglais  Master         2.5   \n",
       "\n",
       "        Ville  \n",
       "0       Paris  \n",
       "1   Marseille  \n",
       "2      Nantes  \n",
       "3   Marseille  \n",
       "4    Bordeaux  \n",
       "..        ...  \n",
       "95      Lille  \n",
       "96       Lyon  \n",
       "97   Bordeaux  \n",
       "98   Bordeaux  \n",
       "99      Paris  \n",
       "\n",
       "[100 rows x 6 columns]"
      ]
     },
     "execution_count": 10,
     "metadata": {},
     "output_type": "execute_result"
    }
   ],
   "source": [
    "df.head(100)"
   ]
  },
  {
   "cell_type": "code",
   "execution_count": 11,
   "metadata": {
    "colab": {
     "base_uri": "https://localhost:8080/",
     "height": 144
    },
    "id": "ynJWy37ZrFbd",
    "outputId": "0f9525f1-f53b-4f2c-8051-39001e050ce0"
   },
   "outputs": [
    {
     "data": {
      "text/plain": [
       "Entreprise      17\n",
       "Metier          19\n",
       "Technologies     0\n",
       "Diplome          0\n",
       "Experience      42\n",
       "Ville            0\n",
       "dtype: int64"
      ]
     },
     "execution_count": 11,
     "metadata": {},
     "output_type": "execute_result"
    }
   ],
   "source": [
    "# Au début on a 94 valeurs manquantes maintenant 42.\n",
    "df.isna().sum()"
   ]
  },
  {
   "cell_type": "markdown",
   "metadata": {
    "id": "gJo_3Lwag4UH"
   },
   "source": [
    "### 4) Combien d'années d'expériences ont, en moyenne, chacun des profils : le data scientist, le lead data scientist et le data engineer en moyenne?"
   ]
  },
  {
   "cell_type": "code",
   "execution_count": 12,
   "metadata": {
    "colab": {
     "base_uri": "https://localhost:8080/",
     "height": 53
    },
    "id": "kylr0NYKt_F5",
    "outputId": "5dac6057-0d44-4e14-a225-c1ebeaf3d91b"
   },
   "outputs": [
    {
     "data": {
      "text/plain": [
       "array(['Data scientist', 'Data architecte', 'Lead data scientist',\n",
       "       'Data engineer', nan], dtype=object)"
      ]
     },
     "execution_count": 12,
     "metadata": {},
     "output_type": "execute_result"
    }
   ],
   "source": [
    "df.Metier.unique()"
   ]
  },
  {
   "cell_type": "code",
   "execution_count": 13,
   "metadata": {
    "colab": {
     "base_uri": "https://localhost:8080/",
     "height": 72
    },
    "id": "grFxKh47g4UJ",
    "outputId": "3041f6ee-6f68-44a8-dbcb-a99b1409684a"
   },
   "outputs": [
    {
     "name": "stdout",
     "output_type": "stream",
     "text": [
      "Moyenne des datas Scientists =  2.241267787839586\n",
      "Moyenne des Leads datas scientists =  3.965260545905707\n",
      "Moyenne des Datas engineers =  2.98495917490331\n"
     ]
    }
   ],
   "source": [
    "Moyennes = dict()\n",
    "\n",
    "Moyennes['Data scientist'] =   df.loc[dataSci, 'Experience'].mean() \n",
    "\n",
    "\n",
    "Moyennes['Lead data scientist'] =   df.loc[LeadDataScien, 'Experience'].mean()\n",
    "\n",
    "Moyennes['Data Engineer'] =  df.loc[dataEng, 'Experience'].mean()\n",
    "\n",
    "Moyennes['Data Architect'] =  df.loc[DataArchi, 'Experience'].mean()\n",
    "\n",
    "print(\"Moyenne des datas Scientists = \",Moyennes['Data scientist'] )\n",
    "\n",
    "print(\"Moyenne des Leads datas scientists = \", Moyennes['Lead data scientist'] )\n",
    "\n",
    "print(\"Moyenne des Datas engineers = \",Moyennes['Data Engineer'])\n",
    "\n",
    "#print(\"Moyenne des Data architect = \",Moyennes['Data Architect'])\n"
   ]
  },
  {
   "cell_type": "markdown",
   "metadata": {
    "id": "XhAhLDjFg4Ub"
   },
   "source": [
    "### 5) Faire la représentation graphique de votre choix afin de comparer le nombre moyen d'années d'expériences pour chaque métier"
   ]
  },
  {
   "cell_type": "code",
   "execution_count": 14,
   "metadata": {
    "colab": {
     "base_uri": "https://localhost:8080/",
     "height": 301
    },
    "id": "tsPyXD-8g4Ug",
    "outputId": "0aa7a05d-2e32-41f5-f2b5-5e47f559a014"
   },
   "outputs": [
    {
     "data": {
      "image/png": "[encoded data removed]",
      "text/plain": [
       "<Figure size 432x288 with 1 Axes>"
      ]
     },
     "metadata": {
      "needs_background": "light"
     },
     "output_type": "display_data"
    }
   ],
   "source": [
    "fig, ax = plt.subplots()\n",
    "ax.barh(list(Moyennes.keys()), list(Moyennes.values()))\n",
    "\n",
    "labels = ax.get_xticklabels()\n",
    "plt.setp(labels, rotation=45, horizontalalignment='right')\n",
    "ax.set(xlim=[0, 5], xlabel=\"Année d'experience\", ylabel='Métier',\n",
    "       title=\"nombre moyen d'années d'expériences pour chaque métier\")\n",
    "\n",
    "plt.show()"
   ]
  },
  {
   "cell_type": "markdown",
   "metadata": {
    "id": "WQgHV3dYg4Us"
   },
   "source": [
    "### 6) Transformer la variable continue 'Experience' en une nouvelle variable catégorielle 'Exp_label' à 4 modalités: débutant, confirmé, avancé et expert\n",
    "- Veuillez expliquer votre choix du règle de transformation.  "
   ]
  },
  {
   "cell_type": "code",
   "execution_count": 15,
   "metadata": {
    "id": "I4VliOUVBekn"
   },
   "outputs": [],
   "source": [
    "df.Experience.fillna(df.Experience.mean(), inplace=True)"
   ]
  },
  {
   "cell_type": "code",
   "execution_count": 16,
   "metadata": {
    "colab": {
     "base_uri": "https://localhost:8080/",
     "height": 284
    },
    "id": "q-WH7uFb2aCG",
    "outputId": "4b478f2c-d272-4107-d4ce-622c65bef0a2"
   },
   "outputs": [
    {
     "data": {
      "text/plain": [
       "<matplotlib.axes._subplots.AxesSubplot at 0x1fee07c5048>"
      ]
     },
     "execution_count": 16,
     "metadata": {},
     "output_type": "execute_result"
    },
    {
     "data": {
      "image/png": "[encoded data removed]",
      "text/plain": [
       "<Figure size 432x288 with 1 Axes>"
      ]
     },
     "metadata": {
      "needs_background": "light"
     },
     "output_type": "display_data"
    }
   ],
   "source": [
    "df.Experience.hist()"
   ]
  },
  {
   "cell_type": "markdown",
   "metadata": {},
   "source": [
    "### D'après les histogrammes on constate :"
   ]
  },
  {
   "cell_type": "code",
   "execution_count": 17,
   "metadata": {
    "id": "YomP7uJLg4Uw"
   },
   "outputs": [
    {
     "data": {
      "text/html": [
       "<div>\n",
       "<style scoped>\n",
       "    .dataframe tbody tr th:only-of-type {\n",
       "        vertical-align: middle;\n",
       "    }\n",
       "\n",
       "    .dataframe tbody tr th {\n",
       "        vertical-align: top;\n",
       "    }\n",
       "\n",
       "    .dataframe thead th {\n",
       "        text-align: right;\n",
       "    }\n",
       "</style>\n",
       "<table border=\"1\" class=\"dataframe\">\n",
       "  <thead>\n",
       "    <tr style=\"text-align: right;\">\n",
       "      <th></th>\n",
       "      <th>Entreprise</th>\n",
       "      <th>Metier</th>\n",
       "      <th>Technologies</th>\n",
       "      <th>Diplome</th>\n",
       "      <th>Experience</th>\n",
       "      <th>Ville</th>\n",
       "      <th>Exp_label</th>\n",
       "    </tr>\n",
       "  </thead>\n",
       "  <tbody>\n",
       "    <tr>\n",
       "      <td>0</td>\n",
       "      <td>Sanofi</td>\n",
       "      <td>Data scientist</td>\n",
       "      <td>Matlab/Python/Pyspark/Scikit-learn/Tensorflow</td>\n",
       "      <td>Master</td>\n",
       "      <td>1.0</td>\n",
       "      <td>Paris</td>\n",
       "      <td>débutant</td>\n",
       "    </tr>\n",
       "    <tr>\n",
       "      <td>1</td>\n",
       "      <td>Massachusetts General Hospital(MGH)</td>\n",
       "      <td>Data architecte</td>\n",
       "      <td>Python/Java/Scala/MongoDB</td>\n",
       "      <td>Master</td>\n",
       "      <td>3.0</td>\n",
       "      <td>Marseille</td>\n",
       "      <td>confirmé</td>\n",
       "    </tr>\n",
       "    <tr>\n",
       "      <td>2</td>\n",
       "      <td>Delve</td>\n",
       "      <td>Lead data scientist</td>\n",
       "      <td>SPSS/SQL/Teradata/R/Python/Tensorflow/scikit-l...</td>\n",
       "      <td>Master</td>\n",
       "      <td>3.0</td>\n",
       "      <td>Nantes</td>\n",
       "      <td>confirmé</td>\n",
       "    </tr>\n",
       "    <tr>\n",
       "      <td>3</td>\n",
       "      <td>Ann &amp; Robert H. Lurie Children’s Hospital of C...</td>\n",
       "      <td>Data scientist</td>\n",
       "      <td>C/C++/Java/Python</td>\n",
       "      <td>Master</td>\n",
       "      <td>1.5</td>\n",
       "      <td>Marseille</td>\n",
       "      <td>débutant</td>\n",
       "    </tr>\n",
       "    <tr>\n",
       "      <td>4</td>\n",
       "      <td>Arm</td>\n",
       "      <td>Data scientist</td>\n",
       "      <td>Matlab/Python/C++/numpy/Tensorflow/scikit-learn</td>\n",
       "      <td>Phd</td>\n",
       "      <td>2.0</td>\n",
       "      <td>Bordeaux</td>\n",
       "      <td>confirmé</td>\n",
       "    </tr>\n",
       "    <tr>\n",
       "      <td>5</td>\n",
       "      <td>S&amp;P Global Ratings</td>\n",
       "      <td>Lead data scientist</td>\n",
       "      <td>VBA/Python/Excel/R</td>\n",
       "      <td>Master</td>\n",
       "      <td>6.0</td>\n",
       "      <td>Lille</td>\n",
       "      <td>avancé</td>\n",
       "    </tr>\n",
       "    <tr>\n",
       "      <td>6</td>\n",
       "      <td>NVIDIA</td>\n",
       "      <td>Data scientist</td>\n",
       "      <td>Excel/VBA/R/Python/PySpark</td>\n",
       "      <td>Bachelor</td>\n",
       "      <td>0.0</td>\n",
       "      <td>Lille</td>\n",
       "      <td>débutant</td>\n",
       "    </tr>\n",
       "    <tr>\n",
       "      <td>7</td>\n",
       "      <td>Cedars-Sinai Medical Center</td>\n",
       "      <td>Data scientist</td>\n",
       "      <td>Java/C/C++/R/Python</td>\n",
       "      <td>Bachelor</td>\n",
       "      <td>4.0</td>\n",
       "      <td>Toulouse</td>\n",
       "      <td>confirmé</td>\n",
       "    </tr>\n",
       "    <tr>\n",
       "      <td>8</td>\n",
       "      <td>Fibroblast</td>\n",
       "      <td>Data architecte</td>\n",
       "      <td>Java/Linux/Docker</td>\n",
       "      <td>Bachelor</td>\n",
       "      <td>8.0</td>\n",
       "      <td>Paris</td>\n",
       "      <td>avancé</td>\n",
       "    </tr>\n",
       "    <tr>\n",
       "      <td>9</td>\n",
       "      <td>General Motors</td>\n",
       "      <td>Data engineer</td>\n",
       "      <td>Python/Java/Linux/GNU</td>\n",
       "      <td>Master</td>\n",
       "      <td>5.0</td>\n",
       "      <td>Toulouse</td>\n",
       "      <td>avancé</td>\n",
       "    </tr>\n",
       "  </tbody>\n",
       "</table>\n",
       "</div>"
      ],
      "text/plain": [
       "                                          Entreprise               Metier  \\\n",
       "0                                             Sanofi       Data scientist   \n",
       "1                Massachusetts General Hospital(MGH)      Data architecte   \n",
       "2                                              Delve  Lead data scientist   \n",
       "3  Ann & Robert H. Lurie Children’s Hospital of C...       Data scientist   \n",
       "4                                                Arm       Data scientist   \n",
       "5                                 S&P Global Ratings  Lead data scientist   \n",
       "6                                             NVIDIA       Data scientist   \n",
       "7                        Cedars-Sinai Medical Center       Data scientist   \n",
       "8                                         Fibroblast      Data architecte   \n",
       "9                                     General Motors        Data engineer   \n",
       "\n",
       "                                        Technologies   Diplome  Experience  \\\n",
       "0      Matlab/Python/Pyspark/Scikit-learn/Tensorflow    Master         1.0   \n",
       "1                          Python/Java/Scala/MongoDB    Master         3.0   \n",
       "2  SPSS/SQL/Teradata/R/Python/Tensorflow/scikit-l...    Master         3.0   \n",
       "3                                  C/C++/Java/Python    Master         1.5   \n",
       "4    Matlab/Python/C++/numpy/Tensorflow/scikit-learn       Phd         2.0   \n",
       "5                                 VBA/Python/Excel/R    Master         6.0   \n",
       "6                         Excel/VBA/R/Python/PySpark  Bachelor         0.0   \n",
       "7                                Java/C/C++/R/Python  Bachelor         4.0   \n",
       "8                                  Java/Linux/Docker  Bachelor         8.0   \n",
       "9                              Python/Java/Linux/GNU    Master         5.0   \n",
       "\n",
       "       Ville Exp_label  \n",
       "0      Paris  débutant  \n",
       "1  Marseille  confirmé  \n",
       "2     Nantes  confirmé  \n",
       "3  Marseille  débutant  \n",
       "4   Bordeaux  confirmé  \n",
       "5      Lille    avancé  \n",
       "6      Lille  débutant  \n",
       "7   Toulouse  confirmé  \n",
       "8      Paris    avancé  \n",
       "9   Toulouse    avancé  "
      ]
     },
     "execution_count": 17,
     "metadata": {},
     "output_type": "execute_result"
    }
   ],
   "source": [
    "df['Exp_label'] = np.nan\n",
    "df.loc[(df['Experience'] >= 0) & (df['Experience'] < 2), 'Exp_label'] = 'débutant'\n",
    "df.loc[(df['Experience'] >= 2) & (df['Experience'] < 5), 'Exp_label'] = 'confirmé'\n",
    "df.loc[(df['Experience'] >= 5) & (df['Experience'] < 10), 'Exp_label'] = 'avancé'\n",
    "df.loc[(df['Experience'] >= 10) , 'Exp_label'] = 'expert'\n",
    "df.head(10)"
   ]
  },
  {
   "cell_type": "markdown",
   "metadata": {
    "id": "du4tPuPlg4U5"
   },
   "source": [
    "### 7) Quelles sont les 5 technologies les plus utilisées? Faites un graphique"
   ]
  },
  {
   "cell_type": "code",
   "execution_count": 18,
   "metadata": {
    "id": "Jiw3N9m_g4U8"
   },
   "outputs": [],
   "source": [
    "import itertools "
   ]
  },
  {
   "cell_type": "markdown",
   "metadata": {},
   "source": [
    "### Puisque téchnologies est un text: on construit des listes en splitant par '/' après on fusionne tous les listes en une seule 'technologies', puis on construit un dictionnaire dont les clés est la technologie la valeur est le nombre d'occurence"
   ]
  },
  {
   "cell_type": "code",
   "execution_count": 19,
   "metadata": {
    "id": "hESRT2yP7IPc"
   },
   "outputs": [],
   "source": [
    "technologies = list(itertools.chain(*df.Technologies.apply(str.split,args = (\"/\"))))\n",
    "technologies = list(filter((\"\").__ne__, technologies))\n",
    "technologies = list(map(lambda x:x.lower(),technologies))"
   ]
  },
  {
   "cell_type": "code",
   "execution_count": 20,
   "metadata": {
    "colab": {
     "base_uri": "https://localhost:8080/",
     "height": 35
    },
    "id": "X8miGioV7U_j",
    "outputId": "ccc5b6ec-94ca-4f5e-eb35-13081f04de1e"
   },
   "outputs": [
    {
     "name": "stdout",
     "output_type": "stream",
     "text": [
      "{'python': 6627, 'r': 4374, 'sql': 2581, 'java': 1719, 'hadoop': 1589}\n"
     ]
    }
   ],
   "source": [
    "from collections import Counter\n",
    "top_Values = dict(Counter(technologies).most_common(5))\n",
    "print(top_Values)"
   ]
  },
  {
   "cell_type": "code",
   "execution_count": 21,
   "metadata": {
    "colab": {
     "base_uri": "https://localhost:8080/",
     "height": 315
    },
    "id": "6a2Ep8Qt9ruD",
    "outputId": "7792d030-600e-4bae-ba38-469f0c23181c"
   },
   "outputs": [
    {
     "data": {
      "image/png": "[encoded data removed]",
      "text/plain": [
       "<Figure size 432x288 with 1 Axes>"
      ]
     },
     "metadata": {
      "needs_background": "light"
     },
     "output_type": "display_data"
    }
   ],
   "source": [
    "fig, ax = plt.subplots()\n",
    "ax.barh(list(top_Values.keys()), list(top_Values.values()))\n",
    "\n",
    "labels = ax.get_xticklabels()\n",
    "plt.setp(labels, rotation=45, horizontalalignment='right')\n",
    "ax.set(xlim=[0, 7000], xlabel=\"Nombre d'apparence\", ylabel='Technology',\n",
    "       title=\"les 5 technologies les plus utilisées\")\n",
    "\n",
    "plt.show()"
   ]
  },
  {
   "cell_type": "code",
   "execution_count": 22,
   "metadata": {
    "colab": {
     "base_uri": "https://localhost:8080/",
     "height": 206
    },
    "id": "HPa6AjncFRYK",
    "outputId": "5f3279fb-59f7-4fe8-8244-5abd8b1970f1"
   },
   "outputs": [
    {
     "data": {
      "text/html": [
       "<div>\n",
       "<style scoped>\n",
       "    .dataframe tbody tr th:only-of-type {\n",
       "        vertical-align: middle;\n",
       "    }\n",
       "\n",
       "    .dataframe tbody tr th {\n",
       "        vertical-align: top;\n",
       "    }\n",
       "\n",
       "    .dataframe thead th {\n",
       "        text-align: right;\n",
       "    }\n",
       "</style>\n",
       "<table border=\"1\" class=\"dataframe\">\n",
       "  <thead>\n",
       "    <tr style=\"text-align: right;\">\n",
       "      <th></th>\n",
       "      <th>Entreprise</th>\n",
       "      <th>Metier</th>\n",
       "      <th>Technologies</th>\n",
       "      <th>Diplome</th>\n",
       "      <th>Experience</th>\n",
       "      <th>Ville</th>\n",
       "      <th>Exp_label</th>\n",
       "    </tr>\n",
       "  </thead>\n",
       "  <tbody>\n",
       "    <tr>\n",
       "      <td>0</td>\n",
       "      <td>Sanofi</td>\n",
       "      <td>Data scientist</td>\n",
       "      <td>Matlab/Python/Pyspark/Scikit-learn/Tensorflow</td>\n",
       "      <td>Master</td>\n",
       "      <td>1.0</td>\n",
       "      <td>Paris</td>\n",
       "      <td>débutant</td>\n",
       "    </tr>\n",
       "    <tr>\n",
       "      <td>1</td>\n",
       "      <td>Massachusetts General Hospital(MGH)</td>\n",
       "      <td>Data architecte</td>\n",
       "      <td>Python/Java/Scala/MongoDB</td>\n",
       "      <td>Master</td>\n",
       "      <td>3.0</td>\n",
       "      <td>Marseille</td>\n",
       "      <td>confirmé</td>\n",
       "    </tr>\n",
       "    <tr>\n",
       "      <td>2</td>\n",
       "      <td>Delve</td>\n",
       "      <td>Lead data scientist</td>\n",
       "      <td>SPSS/SQL/Teradata/R/Python/Tensorflow/scikit-l...</td>\n",
       "      <td>Master</td>\n",
       "      <td>3.0</td>\n",
       "      <td>Nantes</td>\n",
       "      <td>confirmé</td>\n",
       "    </tr>\n",
       "    <tr>\n",
       "      <td>3</td>\n",
       "      <td>Ann &amp; Robert H. Lurie Children’s Hospital of C...</td>\n",
       "      <td>Data scientist</td>\n",
       "      <td>C/C++/Java/Python</td>\n",
       "      <td>Master</td>\n",
       "      <td>1.5</td>\n",
       "      <td>Marseille</td>\n",
       "      <td>débutant</td>\n",
       "    </tr>\n",
       "    <tr>\n",
       "      <td>4</td>\n",
       "      <td>Arm</td>\n",
       "      <td>Data scientist</td>\n",
       "      <td>Matlab/Python/C++/numpy/Tensorflow/scikit-learn</td>\n",
       "      <td>Phd</td>\n",
       "      <td>2.0</td>\n",
       "      <td>Bordeaux</td>\n",
       "      <td>confirmé</td>\n",
       "    </tr>\n",
       "  </tbody>\n",
       "</table>\n",
       "</div>"
      ],
      "text/plain": [
       "                                          Entreprise               Metier  \\\n",
       "0                                             Sanofi       Data scientist   \n",
       "1                Massachusetts General Hospital(MGH)      Data architecte   \n",
       "2                                              Delve  Lead data scientist   \n",
       "3  Ann & Robert H. Lurie Children’s Hospital of C...       Data scientist   \n",
       "4                                                Arm       Data scientist   \n",
       "\n",
       "                                        Technologies Diplome  Experience  \\\n",
       "0      Matlab/Python/Pyspark/Scikit-learn/Tensorflow  Master         1.0   \n",
       "1                          Python/Java/Scala/MongoDB  Master         3.0   \n",
       "2  SPSS/SQL/Teradata/R/Python/Tensorflow/scikit-l...  Master         3.0   \n",
       "3                                  C/C++/Java/Python  Master         1.5   \n",
       "4    Matlab/Python/C++/numpy/Tensorflow/scikit-learn     Phd         2.0   \n",
       "\n",
       "       Ville Exp_label  \n",
       "0      Paris  débutant  \n",
       "1  Marseille  confirmé  \n",
       "2     Nantes  confirmé  \n",
       "3  Marseille  débutant  \n",
       "4   Bordeaux  confirmé  "
      ]
     },
     "execution_count": 22,
     "metadata": {},
     "output_type": "execute_result"
    }
   ],
   "source": [
    "df.head()"
   ]
  },
  {
   "cell_type": "markdown",
   "metadata": {
    "id": "PQac5yt2g4VK"
   },
   "source": [
    "### 8) Réaliser une méthode de clustering non supervisée de votre choix pour faire apparaître 2 clusters que vous jugerez pertinents. Donnez les caractéristiques de chacun des clusters.\n",
    "-  Justifier la performance de votre algorithme grace à une métrique.\n",
    "-  Interpréter votre resultat.  "
   ]
  },
  {
   "cell_type": "markdown",
   "metadata": {},
   "source": [
    "### Puisque le clustering s'applique sur une dataset numérique et comme on a tous les variables sont catégoriales sauf Expérience alors on applique le clustering sur l'expérience"
   ]
  },
  {
   "cell_type": "code",
   "execution_count": 23,
   "metadata": {
    "id": "U6mXsjWRCDa3"
   },
   "outputs": [],
   "source": [
    "from sklearn.cluster import KMeans\n",
    "kmeans = KMeans(n_clusters=2)\n",
    "kmeans.fit(df[['Experience']])\n",
    "y_kmeans = kmeans.predict(df[['Experience']])"
   ]
  },
  {
   "cell_type": "code",
   "execution_count": 24,
   "metadata": {
    "colab": {
     "base_uri": "https://localhost:8080/",
     "height": 301
    },
    "id": "A1o4KQ8gCv9I",
    "outputId": "11c98a30-0b21-4db0-f6ac-031f876b01ae"
   },
   "outputs": [
    {
     "name": "stdout",
     "output_type": "stream",
     "text": [
      "[[1.88195186]\n",
      " [7.47864322]]\n"
     ]
    },
    {
     "data": {
      "image/png": "[encoded data removed]",
      "text/plain": [
       "<Figure size 432x288 with 1 Axes>"
      ]
     },
     "metadata": {
      "needs_background": "light"
     },
     "output_type": "display_data"
    }
   ],
   "source": [
    "centroids = kmeans.cluster_centers_\n",
    "print(centroids)\n",
    "\n",
    "plt.scatter(df['Experience'], np.zeros(len(y_kmeans)), c= kmeans.labels_.astype(float), s=50, alpha=0.5)\n",
    "plt.scatter(centroids[:, 0], np.zeros(2), c='red', s=50)\n",
    "plt.show()"
   ]
  },
  {
   "cell_type": "code",
   "execution_count": 25,
   "metadata": {
    "colab": {
     "base_uri": "https://localhost:8080/",
     "height": 35
    },
    "id": "TO2AmDvHKuSf",
    "outputId": "bae14c39-a7d3-4777-ae09-30d92144b01f"
   },
   "outputs": [
    {
     "data": {
      "text/plain": [
       "0.678994398421177"
      ]
     },
     "execution_count": 25,
     "metadata": {},
     "output_type": "execute_result"
    }
   ],
   "source": [
    "# Métrique utilisée est silhouette score\n",
    "from sklearn.metrics import silhouette_score\n",
    "\n",
    "\n",
    "silhouette_score(df[['Experience']], y_kmeans, metric = 'euclidean')"
   ]
  },
  {
   "cell_type": "markdown",
   "metadata": {
    "id": "UYU5O6bMJvD9"
   },
   "source": [
    "# Interpretation \n",
    "\n",
    "## Cluster 1 = Année d'exp < 5  ( Mauve)\n",
    "## Cluster 2 = Année d'exp >= 5  (Jaune) \n",
    "## Comme silhouette_score = 0.68 c-a-d un résultat pas mal.\n",
    "https://en.wikipedia.org/wiki/Silhouette_(clustering)"
   ]
  },
  {
   "cell_type": "markdown",
   "metadata": {
    "id": "5CD90NMvg4VY"
   },
   "source": [
    "### 9) Réaliser la prédiction des métiers manquants dans la base de données par l'algorithme de votre choix\n",
    "-  Justifier la performance de votre algorithme grace à une métrique.\n",
    "-  Interpréter votre resultat.  "
   ]
  },
  {
   "cell_type": "code",
   "execution_count": 26,
   "metadata": {
    "colab": {
     "base_uri": "https://localhost:8080/",
     "height": 162
    },
    "id": "deCfkYUqBT7m",
    "outputId": "754c78e0-6949-45b9-f658-ad517ec3b8b2"
   },
   "outputs": [
    {
     "data": {
      "text/plain": [
       "Entreprise      17\n",
       "Metier          19\n",
       "Technologies     0\n",
       "Diplome          0\n",
       "Experience       0\n",
       "Ville            0\n",
       "Exp_label        0\n",
       "dtype: int64"
      ]
     },
     "execution_count": 26,
     "metadata": {},
     "output_type": "execute_result"
    }
   ],
   "source": [
    "df.isna().sum()"
   ]
  },
  {
   "cell_type": "code",
   "execution_count": 27,
   "metadata": {
    "colab": {
     "base_uri": "https://localhost:8080/",
     "height": 72
    },
    "id": "Q-lEjrolMb8E",
    "outputId": "e4c5ed72-ff04-4dc0-f29c-6030c2235155"
   },
   "outputs": [
    {
     "data": {
      "text/plain": [
       "Index(['Entreprise', 'Metier', 'Technologies', 'Diplome', 'Experience',\n",
       "       'Ville', 'Exp_label'],\n",
       "      dtype='object')"
      ]
     },
     "execution_count": 27,
     "metadata": {},
     "output_type": "execute_result"
    }
   ],
   "source": [
    "df.columns"
   ]
  },
  {
   "cell_type": "markdown",
   "metadata": {},
   "source": [
    "## Définition des datasets"
   ]
  },
  {
   "cell_type": "code",
   "execution_count": 28,
   "metadata": {
    "id": "m2DP8JbSMTZj"
   },
   "outputs": [],
   "source": [
    "data = df[['Metier','Diplome', 'Experience']]"
   ]
  },
  {
   "cell_type": "markdown",
   "metadata": {},
   "source": [
    "### Convertir Téchnologie en Encodage one-hot\n",
    " "
   ]
  },
  {
   "cell_type": "code",
   "execution_count": 29,
   "metadata": {
    "id": "4bH14QSYNwhI"
   },
   "outputs": [],
   "source": [
    "list_of_tech = set(technologies)"
   ]
  },
  {
   "cell_type": "code",
   "execution_count": 30,
   "metadata": {
    "colab": {
     "base_uri": "https://localhost:8080/",
     "height": 235
    },
    "id": "FozNrYRLNxvo",
    "outputId": "c77fc175-be48-41cf-c3e5-483c86358637"
   },
   "outputs": [
    {
     "name": "stderr",
     "output_type": "stream",
     "text": [
      "C:\\Users\\33617\\AppData\\Local\\Continuum\\anaconda3\\lib\\site-packages\\ipykernel_launcher.py:2: SettingWithCopyWarning: \n",
      "A value is trying to be set on a copy of a slice from a DataFrame.\n",
      "Try using .loc[row_indexer,col_indexer] = value instead\n",
      "\n",
      "See the caveats in the documentation: http://pandas.pydata.org/pandas-docs/stable/user_guide/indexing.html#returning-a-view-versus-a-copy\n",
      "  \n",
      "C:\\Users\\33617\\AppData\\Local\\Continuum\\anaconda3\\lib\\site-packages\\pandas\\core\\indexing.py:494: SettingWithCopyWarning: \n",
      "A value is trying to be set on a copy of a slice from a DataFrame.\n",
      "Try using .loc[row_indexer,col_indexer] = value instead\n",
      "\n",
      "See the caveats in the documentation: http://pandas.pydata.org/pandas-docs/stable/user_guide/indexing.html#returning-a-view-versus-a-copy\n",
      "  self.obj[item] = s\n"
     ]
    }
   ],
   "source": [
    "for tech in list_of_tech:\n",
    "  data[tech] = 0\n",
    "  data.loc[df[\"Technologies\"].notnull() & df['Technologies'].str.contains(tech,regex = False , na =False), tech] = 1\n"
   ]
  },
  {
   "cell_type": "code",
   "execution_count": 31,
   "metadata": {
    "colab": {
     "base_uri": "https://localhost:8080/",
     "height": 609
    },
    "id": "EIjkedaJQRe6",
    "outputId": "13015f79-b47b-45ac-f409-d41b0a930474"
   },
   "outputs": [
    {
     "data": {
      "text/html": [
       "<div>\n",
       "<style scoped>\n",
       "    .dataframe tbody tr th:only-of-type {\n",
       "        vertical-align: middle;\n",
       "    }\n",
       "\n",
       "    .dataframe tbody tr th {\n",
       "        vertical-align: top;\n",
       "    }\n",
       "\n",
       "    .dataframe thead th {\n",
       "        text-align: right;\n",
       "    }\n",
       "</style>\n",
       "<table border=\"1\" class=\"dataframe\">\n",
       "  <thead>\n",
       "    <tr style=\"text-align: right;\">\n",
       "      <th></th>\n",
       "      <th>Metier</th>\n",
       "      <th>Diplome</th>\n",
       "      <th>Experience</th>\n",
       "      <th>vba</th>\n",
       "      <th>c++</th>\n",
       "      <th>mongodb</th>\n",
       "      <th>hbase</th>\n",
       "      <th>python</th>\n",
       "      <th>mysql</th>\n",
       "      <th>cassandra</th>\n",
       "      <th>...</th>\n",
       "      <th>kafka</th>\n",
       "      <th>nosq</th>\n",
       "      <th>sql</th>\n",
       "      <th>docker</th>\n",
       "      <th>perl</th>\n",
       "      <th>aws</th>\n",
       "      <th>scoring</th>\n",
       "      <th>matlab</th>\n",
       "      <th>pig</th>\n",
       "      <th>elasticsearch</th>\n",
       "    </tr>\n",
       "  </thead>\n",
       "  <tbody>\n",
       "    <tr>\n",
       "      <td>0</td>\n",
       "      <td>Data scientist</td>\n",
       "      <td>Master</td>\n",
       "      <td>1.0</td>\n",
       "      <td>0</td>\n",
       "      <td>0</td>\n",
       "      <td>0</td>\n",
       "      <td>0</td>\n",
       "      <td>0</td>\n",
       "      <td>0</td>\n",
       "      <td>0</td>\n",
       "      <td>...</td>\n",
       "      <td>0</td>\n",
       "      <td>0</td>\n",
       "      <td>0</td>\n",
       "      <td>0</td>\n",
       "      <td>0</td>\n",
       "      <td>0</td>\n",
       "      <td>0</td>\n",
       "      <td>0</td>\n",
       "      <td>0</td>\n",
       "      <td>0</td>\n",
       "    </tr>\n",
       "    <tr>\n",
       "      <td>1</td>\n",
       "      <td>Data architecte</td>\n",
       "      <td>Master</td>\n",
       "      <td>3.0</td>\n",
       "      <td>0</td>\n",
       "      <td>0</td>\n",
       "      <td>0</td>\n",
       "      <td>0</td>\n",
       "      <td>0</td>\n",
       "      <td>0</td>\n",
       "      <td>0</td>\n",
       "      <td>...</td>\n",
       "      <td>0</td>\n",
       "      <td>0</td>\n",
       "      <td>0</td>\n",
       "      <td>0</td>\n",
       "      <td>0</td>\n",
       "      <td>0</td>\n",
       "      <td>0</td>\n",
       "      <td>0</td>\n",
       "      <td>0</td>\n",
       "      <td>0</td>\n",
       "    </tr>\n",
       "    <tr>\n",
       "      <td>2</td>\n",
       "      <td>Lead data scientist</td>\n",
       "      <td>Master</td>\n",
       "      <td>3.0</td>\n",
       "      <td>0</td>\n",
       "      <td>0</td>\n",
       "      <td>0</td>\n",
       "      <td>0</td>\n",
       "      <td>0</td>\n",
       "      <td>0</td>\n",
       "      <td>0</td>\n",
       "      <td>...</td>\n",
       "      <td>0</td>\n",
       "      <td>0</td>\n",
       "      <td>0</td>\n",
       "      <td>0</td>\n",
       "      <td>0</td>\n",
       "      <td>0</td>\n",
       "      <td>0</td>\n",
       "      <td>0</td>\n",
       "      <td>0</td>\n",
       "      <td>0</td>\n",
       "    </tr>\n",
       "    <tr>\n",
       "      <td>3</td>\n",
       "      <td>Data scientist</td>\n",
       "      <td>Master</td>\n",
       "      <td>1.5</td>\n",
       "      <td>0</td>\n",
       "      <td>0</td>\n",
       "      <td>0</td>\n",
       "      <td>0</td>\n",
       "      <td>0</td>\n",
       "      <td>0</td>\n",
       "      <td>0</td>\n",
       "      <td>...</td>\n",
       "      <td>0</td>\n",
       "      <td>0</td>\n",
       "      <td>0</td>\n",
       "      <td>0</td>\n",
       "      <td>0</td>\n",
       "      <td>0</td>\n",
       "      <td>0</td>\n",
       "      <td>0</td>\n",
       "      <td>0</td>\n",
       "      <td>0</td>\n",
       "    </tr>\n",
       "    <tr>\n",
       "      <td>4</td>\n",
       "      <td>Data scientist</td>\n",
       "      <td>Phd</td>\n",
       "      <td>2.0</td>\n",
       "      <td>0</td>\n",
       "      <td>0</td>\n",
       "      <td>0</td>\n",
       "      <td>0</td>\n",
       "      <td>0</td>\n",
       "      <td>0</td>\n",
       "      <td>0</td>\n",
       "      <td>...</td>\n",
       "      <td>0</td>\n",
       "      <td>0</td>\n",
       "      <td>0</td>\n",
       "      <td>0</td>\n",
       "      <td>0</td>\n",
       "      <td>0</td>\n",
       "      <td>0</td>\n",
       "      <td>0</td>\n",
       "      <td>0</td>\n",
       "      <td>0</td>\n",
       "    </tr>\n",
       "    <tr>\n",
       "      <td>5</td>\n",
       "      <td>Lead data scientist</td>\n",
       "      <td>Master</td>\n",
       "      <td>6.0</td>\n",
       "      <td>0</td>\n",
       "      <td>0</td>\n",
       "      <td>0</td>\n",
       "      <td>0</td>\n",
       "      <td>0</td>\n",
       "      <td>0</td>\n",
       "      <td>0</td>\n",
       "      <td>...</td>\n",
       "      <td>0</td>\n",
       "      <td>0</td>\n",
       "      <td>0</td>\n",
       "      <td>0</td>\n",
       "      <td>0</td>\n",
       "      <td>0</td>\n",
       "      <td>0</td>\n",
       "      <td>0</td>\n",
       "      <td>0</td>\n",
       "      <td>0</td>\n",
       "    </tr>\n",
       "    <tr>\n",
       "      <td>6</td>\n",
       "      <td>Data scientist</td>\n",
       "      <td>Bachelor</td>\n",
       "      <td>0.0</td>\n",
       "      <td>0</td>\n",
       "      <td>0</td>\n",
       "      <td>0</td>\n",
       "      <td>0</td>\n",
       "      <td>0</td>\n",
       "      <td>0</td>\n",
       "      <td>0</td>\n",
       "      <td>...</td>\n",
       "      <td>0</td>\n",
       "      <td>0</td>\n",
       "      <td>0</td>\n",
       "      <td>0</td>\n",
       "      <td>0</td>\n",
       "      <td>0</td>\n",
       "      <td>0</td>\n",
       "      <td>0</td>\n",
       "      <td>0</td>\n",
       "      <td>0</td>\n",
       "    </tr>\n",
       "    <tr>\n",
       "      <td>7</td>\n",
       "      <td>Data scientist</td>\n",
       "      <td>Bachelor</td>\n",
       "      <td>4.0</td>\n",
       "      <td>0</td>\n",
       "      <td>0</td>\n",
       "      <td>0</td>\n",
       "      <td>0</td>\n",
       "      <td>0</td>\n",
       "      <td>0</td>\n",
       "      <td>0</td>\n",
       "      <td>...</td>\n",
       "      <td>0</td>\n",
       "      <td>0</td>\n",
       "      <td>0</td>\n",
       "      <td>0</td>\n",
       "      <td>0</td>\n",
       "      <td>0</td>\n",
       "      <td>0</td>\n",
       "      <td>0</td>\n",
       "      <td>0</td>\n",
       "      <td>0</td>\n",
       "    </tr>\n",
       "    <tr>\n",
       "      <td>8</td>\n",
       "      <td>Data architecte</td>\n",
       "      <td>Bachelor</td>\n",
       "      <td>8.0</td>\n",
       "      <td>0</td>\n",
       "      <td>0</td>\n",
       "      <td>0</td>\n",
       "      <td>0</td>\n",
       "      <td>0</td>\n",
       "      <td>0</td>\n",
       "      <td>0</td>\n",
       "      <td>...</td>\n",
       "      <td>0</td>\n",
       "      <td>0</td>\n",
       "      <td>0</td>\n",
       "      <td>0</td>\n",
       "      <td>0</td>\n",
       "      <td>0</td>\n",
       "      <td>0</td>\n",
       "      <td>0</td>\n",
       "      <td>0</td>\n",
       "      <td>0</td>\n",
       "    </tr>\n",
       "    <tr>\n",
       "      <td>9</td>\n",
       "      <td>Data engineer</td>\n",
       "      <td>Master</td>\n",
       "      <td>5.0</td>\n",
       "      <td>0</td>\n",
       "      <td>0</td>\n",
       "      <td>0</td>\n",
       "      <td>0</td>\n",
       "      <td>0</td>\n",
       "      <td>0</td>\n",
       "      <td>0</td>\n",
       "      <td>...</td>\n",
       "      <td>0</td>\n",
       "      <td>0</td>\n",
       "      <td>0</td>\n",
       "      <td>0</td>\n",
       "      <td>0</td>\n",
       "      <td>0</td>\n",
       "      <td>0</td>\n",
       "      <td>0</td>\n",
       "      <td>0</td>\n",
       "      <td>0</td>\n",
       "    </tr>\n",
       "  </tbody>\n",
       "</table>\n",
       "<p>10 rows × 59 columns</p>\n",
       "</div>"
      ],
      "text/plain": [
       "                Metier   Diplome  Experience  vba  c++  mongodb  hbase  \\\n",
       "0       Data scientist    Master         1.0    0    0        0      0   \n",
       "1      Data architecte    Master         3.0    0    0        0      0   \n",
       "2  Lead data scientist    Master         3.0    0    0        0      0   \n",
       "3       Data scientist    Master         1.5    0    0        0      0   \n",
       "4       Data scientist       Phd         2.0    0    0        0      0   \n",
       "5  Lead data scientist    Master         6.0    0    0        0      0   \n",
       "6       Data scientist  Bachelor         0.0    0    0        0      0   \n",
       "7       Data scientist  Bachelor         4.0    0    0        0      0   \n",
       "8      Data architecte  Bachelor         8.0    0    0        0      0   \n",
       "9        Data engineer    Master         5.0    0    0        0      0   \n",
       "\n",
       "   python  mysql  cassandra  ...  kafka  nosq  sql  docker  perl  aws  \\\n",
       "0       0      0          0  ...      0     0    0       0     0    0   \n",
       "1       0      0          0  ...      0     0    0       0     0    0   \n",
       "2       0      0          0  ...      0     0    0       0     0    0   \n",
       "3       0      0          0  ...      0     0    0       0     0    0   \n",
       "4       0      0          0  ...      0     0    0       0     0    0   \n",
       "5       0      0          0  ...      0     0    0       0     0    0   \n",
       "6       0      0          0  ...      0     0    0       0     0    0   \n",
       "7       0      0          0  ...      0     0    0       0     0    0   \n",
       "8       0      0          0  ...      0     0    0       0     0    0   \n",
       "9       0      0          0  ...      0     0    0       0     0    0   \n",
       "\n",
       "   scoring  matlab  pig  elasticsearch  \n",
       "0        0       0    0              0  \n",
       "1        0       0    0              0  \n",
       "2        0       0    0              0  \n",
       "3        0       0    0              0  \n",
       "4        0       0    0              0  \n",
       "5        0       0    0              0  \n",
       "6        0       0    0              0  \n",
       "7        0       0    0              0  \n",
       "8        0       0    0              0  \n",
       "9        0       0    0              0  \n",
       "\n",
       "[10 rows x 59 columns]"
      ]
     },
     "execution_count": 31,
     "metadata": {},
     "output_type": "execute_result"
    }
   ],
   "source": [
    "data.head(10)"
   ]
  },
  {
   "cell_type": "markdown",
   "metadata": {},
   "source": [
    "### test c'est data qui a des nan en Metier"
   ]
  },
  {
   "cell_type": "code",
   "execution_count": 32,
   "metadata": {
    "id": "UMoLefqzg4VY"
   },
   "outputs": [],
   "source": [
    "test = data.loc[df[\"Metier\"].isna()]"
   ]
  },
  {
   "cell_type": "code",
   "execution_count": 33,
   "metadata": {
    "colab": {
     "base_uri": "https://localhost:8080/",
     "height": 261
    },
    "id": "oYXd_lPTRPXy",
    "outputId": "f3e4e4dc-6990-4d0c-e5a7-9b03baa78d7e"
   },
   "outputs": [
    {
     "data": {
      "text/html": [
       "<div>\n",
       "<style scoped>\n",
       "    .dataframe tbody tr th:only-of-type {\n",
       "        vertical-align: middle;\n",
       "    }\n",
       "\n",
       "    .dataframe tbody tr th {\n",
       "        vertical-align: top;\n",
       "    }\n",
       "\n",
       "    .dataframe thead th {\n",
       "        text-align: right;\n",
       "    }\n",
       "</style>\n",
       "<table border=\"1\" class=\"dataframe\">\n",
       "  <thead>\n",
       "    <tr style=\"text-align: right;\">\n",
       "      <th></th>\n",
       "      <th>Metier</th>\n",
       "      <th>Diplome</th>\n",
       "      <th>Experience</th>\n",
       "      <th>vba</th>\n",
       "      <th>c++</th>\n",
       "      <th>mongodb</th>\n",
       "      <th>hbase</th>\n",
       "      <th>python</th>\n",
       "      <th>mysql</th>\n",
       "      <th>cassandra</th>\n",
       "      <th>...</th>\n",
       "      <th>kafka</th>\n",
       "      <th>nosq</th>\n",
       "      <th>sql</th>\n",
       "      <th>docker</th>\n",
       "      <th>perl</th>\n",
       "      <th>aws</th>\n",
       "      <th>scoring</th>\n",
       "      <th>matlab</th>\n",
       "      <th>pig</th>\n",
       "      <th>elasticsearch</th>\n",
       "    </tr>\n",
       "  </thead>\n",
       "  <tbody>\n",
       "    <tr>\n",
       "      <td>346</td>\n",
       "      <td>NaN</td>\n",
       "      <td>No diploma</td>\n",
       "      <td>2.5</td>\n",
       "      <td>0</td>\n",
       "      <td>0</td>\n",
       "      <td>0</td>\n",
       "      <td>0</td>\n",
       "      <td>0</td>\n",
       "      <td>0</td>\n",
       "      <td>0</td>\n",
       "      <td>...</td>\n",
       "      <td>0</td>\n",
       "      <td>0</td>\n",
       "      <td>0</td>\n",
       "      <td>0</td>\n",
       "      <td>0</td>\n",
       "      <td>0</td>\n",
       "      <td>0</td>\n",
       "      <td>0</td>\n",
       "      <td>0</td>\n",
       "      <td>0</td>\n",
       "    </tr>\n",
       "    <tr>\n",
       "      <td>2058</td>\n",
       "      <td>NaN</td>\n",
       "      <td>Master</td>\n",
       "      <td>15.0</td>\n",
       "      <td>0</td>\n",
       "      <td>0</td>\n",
       "      <td>0</td>\n",
       "      <td>0</td>\n",
       "      <td>0</td>\n",
       "      <td>0</td>\n",
       "      <td>0</td>\n",
       "      <td>...</td>\n",
       "      <td>0</td>\n",
       "      <td>0</td>\n",
       "      <td>0</td>\n",
       "      <td>0</td>\n",
       "      <td>0</td>\n",
       "      <td>0</td>\n",
       "      <td>0</td>\n",
       "      <td>0</td>\n",
       "      <td>0</td>\n",
       "      <td>0</td>\n",
       "    </tr>\n",
       "    <tr>\n",
       "      <td>2670</td>\n",
       "      <td>NaN</td>\n",
       "      <td>Master</td>\n",
       "      <td>1.5</td>\n",
       "      <td>0</td>\n",
       "      <td>0</td>\n",
       "      <td>0</td>\n",
       "      <td>0</td>\n",
       "      <td>0</td>\n",
       "      <td>0</td>\n",
       "      <td>0</td>\n",
       "      <td>...</td>\n",
       "      <td>0</td>\n",
       "      <td>0</td>\n",
       "      <td>0</td>\n",
       "      <td>0</td>\n",
       "      <td>0</td>\n",
       "      <td>0</td>\n",
       "      <td>0</td>\n",
       "      <td>0</td>\n",
       "      <td>0</td>\n",
       "      <td>0</td>\n",
       "    </tr>\n",
       "    <tr>\n",
       "      <td>2899</td>\n",
       "      <td>NaN</td>\n",
       "      <td>Phd</td>\n",
       "      <td>0.0</td>\n",
       "      <td>0</td>\n",
       "      <td>0</td>\n",
       "      <td>0</td>\n",
       "      <td>0</td>\n",
       "      <td>0</td>\n",
       "      <td>0</td>\n",
       "      <td>0</td>\n",
       "      <td>...</td>\n",
       "      <td>0</td>\n",
       "      <td>0</td>\n",
       "      <td>0</td>\n",
       "      <td>0</td>\n",
       "      <td>0</td>\n",
       "      <td>0</td>\n",
       "      <td>0</td>\n",
       "      <td>0</td>\n",
       "      <td>0</td>\n",
       "      <td>0</td>\n",
       "    </tr>\n",
       "    <tr>\n",
       "      <td>3346</td>\n",
       "      <td>NaN</td>\n",
       "      <td>Master</td>\n",
       "      <td>7.0</td>\n",
       "      <td>0</td>\n",
       "      <td>0</td>\n",
       "      <td>0</td>\n",
       "      <td>0</td>\n",
       "      <td>0</td>\n",
       "      <td>0</td>\n",
       "      <td>0</td>\n",
       "      <td>...</td>\n",
       "      <td>0</td>\n",
       "      <td>0</td>\n",
       "      <td>0</td>\n",
       "      <td>0</td>\n",
       "      <td>0</td>\n",
       "      <td>0</td>\n",
       "      <td>0</td>\n",
       "      <td>0</td>\n",
       "      <td>0</td>\n",
       "      <td>0</td>\n",
       "    </tr>\n",
       "  </tbody>\n",
       "</table>\n",
       "<p>5 rows × 59 columns</p>\n",
       "</div>"
      ],
      "text/plain": [
       "     Metier     Diplome  Experience  vba  c++  mongodb  hbase  python  mysql  \\\n",
       "346     NaN  No diploma         2.5    0    0        0      0       0      0   \n",
       "2058    NaN      Master        15.0    0    0        0      0       0      0   \n",
       "2670    NaN      Master         1.5    0    0        0      0       0      0   \n",
       "2899    NaN         Phd         0.0    0    0        0      0       0      0   \n",
       "3346    NaN      Master         7.0    0    0        0      0       0      0   \n",
       "\n",
       "      cassandra  ...  kafka  nosq  sql  docker  perl  aws  scoring  matlab  \\\n",
       "346           0  ...      0     0    0       0     0    0        0       0   \n",
       "2058          0  ...      0     0    0       0     0    0        0       0   \n",
       "2670          0  ...      0     0    0       0     0    0        0       0   \n",
       "2899          0  ...      0     0    0       0     0    0        0       0   \n",
       "3346          0  ...      0     0    0       0     0    0        0       0   \n",
       "\n",
       "      pig  elasticsearch  \n",
       "346     0              0  \n",
       "2058    0              0  \n",
       "2670    0              0  \n",
       "2899    0              0  \n",
       "3346    0              0  \n",
       "\n",
       "[5 rows x 59 columns]"
      ]
     },
     "execution_count": 33,
     "metadata": {},
     "output_type": "execute_result"
    }
   ],
   "source": [
    "test.head()"
   ]
  },
  {
   "cell_type": "code",
   "execution_count": 34,
   "metadata": {
    "id": "juQgFNfDL-6D"
   },
   "outputs": [],
   "source": [
    "train = data.dropna(axis=0)"
   ]
  },
  {
   "cell_type": "code",
   "execution_count": 35,
   "metadata": {
    "colab": {
     "base_uri": "https://localhost:8080/",
     "height": 348
    },
    "id": "kyLVkjFgMBI7",
    "outputId": "6caad815-2197-47d8-b69e-497e97ef8b0f"
   },
   "outputs": [
    {
     "data": {
      "text/html": [
       "<div>\n",
       "<style scoped>\n",
       "    .dataframe tbody tr th:only-of-type {\n",
       "        vertical-align: middle;\n",
       "    }\n",
       "\n",
       "    .dataframe tbody tr th {\n",
       "        vertical-align: top;\n",
       "    }\n",
       "\n",
       "    .dataframe thead th {\n",
       "        text-align: right;\n",
       "    }\n",
       "</style>\n",
       "<table border=\"1\" class=\"dataframe\">\n",
       "  <thead>\n",
       "    <tr style=\"text-align: right;\">\n",
       "      <th></th>\n",
       "      <th>Metier</th>\n",
       "      <th>Diplome</th>\n",
       "      <th>Experience</th>\n",
       "      <th>vba</th>\n",
       "      <th>c++</th>\n",
       "      <th>mongodb</th>\n",
       "      <th>hbase</th>\n",
       "      <th>python</th>\n",
       "      <th>mysql</th>\n",
       "      <th>cassandra</th>\n",
       "      <th>...</th>\n",
       "      <th>kafka</th>\n",
       "      <th>nosq</th>\n",
       "      <th>sql</th>\n",
       "      <th>docker</th>\n",
       "      <th>perl</th>\n",
       "      <th>aws</th>\n",
       "      <th>scoring</th>\n",
       "      <th>matlab</th>\n",
       "      <th>pig</th>\n",
       "      <th>elasticsearch</th>\n",
       "    </tr>\n",
       "  </thead>\n",
       "  <tbody>\n",
       "    <tr>\n",
       "      <td>0</td>\n",
       "      <td>Data scientist</td>\n",
       "      <td>Master</td>\n",
       "      <td>1.0</td>\n",
       "      <td>0</td>\n",
       "      <td>0</td>\n",
       "      <td>0</td>\n",
       "      <td>0</td>\n",
       "      <td>0</td>\n",
       "      <td>0</td>\n",
       "      <td>0</td>\n",
       "      <td>...</td>\n",
       "      <td>0</td>\n",
       "      <td>0</td>\n",
       "      <td>0</td>\n",
       "      <td>0</td>\n",
       "      <td>0</td>\n",
       "      <td>0</td>\n",
       "      <td>0</td>\n",
       "      <td>0</td>\n",
       "      <td>0</td>\n",
       "      <td>0</td>\n",
       "    </tr>\n",
       "    <tr>\n",
       "      <td>1</td>\n",
       "      <td>Data architecte</td>\n",
       "      <td>Master</td>\n",
       "      <td>3.0</td>\n",
       "      <td>0</td>\n",
       "      <td>0</td>\n",
       "      <td>0</td>\n",
       "      <td>0</td>\n",
       "      <td>0</td>\n",
       "      <td>0</td>\n",
       "      <td>0</td>\n",
       "      <td>...</td>\n",
       "      <td>0</td>\n",
       "      <td>0</td>\n",
       "      <td>0</td>\n",
       "      <td>0</td>\n",
       "      <td>0</td>\n",
       "      <td>0</td>\n",
       "      <td>0</td>\n",
       "      <td>0</td>\n",
       "      <td>0</td>\n",
       "      <td>0</td>\n",
       "    </tr>\n",
       "    <tr>\n",
       "      <td>2</td>\n",
       "      <td>Lead data scientist</td>\n",
       "      <td>Master</td>\n",
       "      <td>3.0</td>\n",
       "      <td>0</td>\n",
       "      <td>0</td>\n",
       "      <td>0</td>\n",
       "      <td>0</td>\n",
       "      <td>0</td>\n",
       "      <td>0</td>\n",
       "      <td>0</td>\n",
       "      <td>...</td>\n",
       "      <td>0</td>\n",
       "      <td>0</td>\n",
       "      <td>0</td>\n",
       "      <td>0</td>\n",
       "      <td>0</td>\n",
       "      <td>0</td>\n",
       "      <td>0</td>\n",
       "      <td>0</td>\n",
       "      <td>0</td>\n",
       "      <td>0</td>\n",
       "    </tr>\n",
       "    <tr>\n",
       "      <td>3</td>\n",
       "      <td>Data scientist</td>\n",
       "      <td>Master</td>\n",
       "      <td>1.5</td>\n",
       "      <td>0</td>\n",
       "      <td>0</td>\n",
       "      <td>0</td>\n",
       "      <td>0</td>\n",
       "      <td>0</td>\n",
       "      <td>0</td>\n",
       "      <td>0</td>\n",
       "      <td>...</td>\n",
       "      <td>0</td>\n",
       "      <td>0</td>\n",
       "      <td>0</td>\n",
       "      <td>0</td>\n",
       "      <td>0</td>\n",
       "      <td>0</td>\n",
       "      <td>0</td>\n",
       "      <td>0</td>\n",
       "      <td>0</td>\n",
       "      <td>0</td>\n",
       "    </tr>\n",
       "    <tr>\n",
       "      <td>4</td>\n",
       "      <td>Data scientist</td>\n",
       "      <td>Phd</td>\n",
       "      <td>2.0</td>\n",
       "      <td>0</td>\n",
       "      <td>0</td>\n",
       "      <td>0</td>\n",
       "      <td>0</td>\n",
       "      <td>0</td>\n",
       "      <td>0</td>\n",
       "      <td>0</td>\n",
       "      <td>...</td>\n",
       "      <td>0</td>\n",
       "      <td>0</td>\n",
       "      <td>0</td>\n",
       "      <td>0</td>\n",
       "      <td>0</td>\n",
       "      <td>0</td>\n",
       "      <td>0</td>\n",
       "      <td>0</td>\n",
       "      <td>0</td>\n",
       "      <td>0</td>\n",
       "    </tr>\n",
       "  </tbody>\n",
       "</table>\n",
       "<p>5 rows × 59 columns</p>\n",
       "</div>"
      ],
      "text/plain": [
       "                Metier Diplome  Experience  vba  c++  mongodb  hbase  python  \\\n",
       "0       Data scientist  Master         1.0    0    0        0      0       0   \n",
       "1      Data architecte  Master         3.0    0    0        0      0       0   \n",
       "2  Lead data scientist  Master         3.0    0    0        0      0       0   \n",
       "3       Data scientist  Master         1.5    0    0        0      0       0   \n",
       "4       Data scientist     Phd         2.0    0    0        0      0       0   \n",
       "\n",
       "   mysql  cassandra  ...  kafka  nosq  sql  docker  perl  aws  scoring  \\\n",
       "0      0          0  ...      0     0    0       0     0    0        0   \n",
       "1      0          0  ...      0     0    0       0     0    0        0   \n",
       "2      0          0  ...      0     0    0       0     0    0        0   \n",
       "3      0          0  ...      0     0    0       0     0    0        0   \n",
       "4      0          0  ...      0     0    0       0     0    0        0   \n",
       "\n",
       "   matlab  pig  elasticsearch  \n",
       "0       0    0              0  \n",
       "1       0    0              0  \n",
       "2       0    0              0  \n",
       "3       0    0              0  \n",
       "4       0    0              0  \n",
       "\n",
       "[5 rows x 59 columns]"
      ]
     },
     "execution_count": 35,
     "metadata": {},
     "output_type": "execute_result"
    }
   ],
   "source": [
    "train.head()"
   ]
  },
  {
   "cell_type": "code",
   "execution_count": 36,
   "metadata": {
    "colab": {
     "base_uri": "https://localhost:8080/",
     "height": 35
    },
    "id": "4ig_-23sRcVf",
    "outputId": "cacc1139-d3d5-42f4-a9e6-1edaebaae804"
   },
   "outputs": [
    {
     "data": {
      "text/plain": [
       "(9563, 59)"
      ]
     },
     "execution_count": 36,
     "metadata": {},
     "output_type": "execute_result"
    }
   ],
   "source": [
    "train.shape"
   ]
  },
  {
   "cell_type": "code",
   "execution_count": 37,
   "metadata": {
    "colab": {
     "base_uri": "https://localhost:8080/",
     "height": 35
    },
    "id": "YjDtsEs3RePz",
    "outputId": "7389f10b-e932-41d3-d427-703edd1d9190"
   },
   "outputs": [
    {
     "data": {
      "text/plain": [
       "(19, 59)"
      ]
     },
     "execution_count": 37,
     "metadata": {},
     "output_type": "execute_result"
    }
   ],
   "source": [
    "test.shape"
   ]
  },
  {
   "cell_type": "code",
   "execution_count": 38,
   "metadata": {
    "colab": {
     "base_uri": "https://localhost:8080/",
     "height": 53
    },
    "id": "4PvwnRt7VcOw",
    "outputId": "66b4b7b3-4627-4347-b66f-4294d1ed7b10"
   },
   "outputs": [
    {
     "data": {
      "text/plain": [
       "array(['Data scientist', 'Data architecte', 'Lead data scientist',\n",
       "       'Data engineer', nan], dtype=object)"
      ]
     },
     "execution_count": 38,
     "metadata": {},
     "output_type": "execute_result"
    }
   ],
   "source": [
    "data.Metier.unique()"
   ]
  },
  {
   "cell_type": "markdown",
   "metadata": {},
   "source": [
    "### Utilisant des labels encoder pour Metier et Diplome"
   ]
  },
  {
   "cell_type": "code",
   "execution_count": 39,
   "metadata": {
    "colab": {
     "base_uri": "https://localhost:8080/",
     "height": 35
    },
    "id": "A_oEd_XhRqUK",
    "outputId": "4394c4e5-6753-4c81-9386-c47408aedaa2"
   },
   "outputs": [
    {
     "data": {
      "text/plain": [
       "LabelEncoder()"
      ]
     },
     "execution_count": 39,
     "metadata": {},
     "output_type": "execute_result"
    }
   ],
   "source": [
    "from sklearn import preprocessing\n",
    "le1 = preprocessing.LabelEncoder()\n",
    "le1.fit(['Data scientist', 'Data architecte', 'Lead data scientist','Data engineer'])\n"
   ]
  },
  {
   "cell_type": "code",
   "execution_count": 40,
   "metadata": {
    "colab": {
     "base_uri": "https://localhost:8080/",
     "height": 53
    },
    "id": "AtKRcDrxW3C3",
    "outputId": "a2fc123b-ad0b-4ae3-830b-9fd3e2dead43"
   },
   "outputs": [
    {
     "data": {
      "text/plain": [
       "array(['Data architecte', 'Data engineer', 'Data scientist',\n",
       "       'Lead data scientist'], dtype='<U19')"
      ]
     },
     "execution_count": 40,
     "metadata": {},
     "output_type": "execute_result"
    }
   ],
   "source": [
    "le1.inverse_transform([0,1,2,3])"
   ]
  },
  {
   "cell_type": "code",
   "execution_count": 41,
   "metadata": {
    "colab": {
     "base_uri": "https://localhost:8080/",
     "height": 126
    },
    "id": "oTviFZZPVlgm",
    "outputId": "7addef63-a242-4b18-d269-d2330d826963"
   },
   "outputs": [
    {
     "name": "stderr",
     "output_type": "stream",
     "text": [
      "C:\\Users\\33617\\AppData\\Local\\Continuum\\anaconda3\\lib\\site-packages\\ipykernel_launcher.py:1: SettingWithCopyWarning: \n",
      "A value is trying to be set on a copy of a slice from a DataFrame.\n",
      "Try using .loc[row_indexer,col_indexer] = value instead\n",
      "\n",
      "See the caveats in the documentation: http://pandas.pydata.org/pandas-docs/stable/user_guide/indexing.html#returning-a-view-versus-a-copy\n",
      "  \"\"\"Entry point for launching an IPython kernel.\n"
     ]
    }
   ],
   "source": [
    "train[\"Metier\"] = le1.transform(train[\"Metier\"])"
   ]
  },
  {
   "cell_type": "code",
   "execution_count": 42,
   "metadata": {
    "colab": {
     "base_uri": "https://localhost:8080/",
     "height": 35
    },
    "id": "vzXXWSt6WEKa",
    "outputId": "c9b18680-d7e1-4c34-b71e-801fa9e20556"
   },
   "outputs": [
    {
     "data": {
      "text/plain": [
       "array(['Master', 'Phd', 'Bachelor', 'No diploma'], dtype=object)"
      ]
     },
     "execution_count": 42,
     "metadata": {},
     "output_type": "execute_result"
    }
   ],
   "source": [
    "data.Diplome.unique()"
   ]
  },
  {
   "cell_type": "code",
   "execution_count": 43,
   "metadata": {
    "colab": {
     "base_uri": "https://localhost:8080/",
     "height": 126
    },
    "id": "5ijW1jJCVmMQ",
    "outputId": "619d7e80-d7c6-460b-d1dc-2851f0c96539"
   },
   "outputs": [
    {
     "name": "stderr",
     "output_type": "stream",
     "text": [
      "C:\\Users\\33617\\AppData\\Local\\Continuum\\anaconda3\\lib\\site-packages\\ipykernel_launcher.py:5: SettingWithCopyWarning: \n",
      "A value is trying to be set on a copy of a slice from a DataFrame.\n",
      "Try using .loc[row_indexer,col_indexer] = value instead\n",
      "\n",
      "See the caveats in the documentation: http://pandas.pydata.org/pandas-docs/stable/user_guide/indexing.html#returning-a-view-versus-a-copy\n",
      "  \"\"\"\n"
     ]
    }
   ],
   "source": [
    "le = preprocessing.LabelEncoder()\n",
    "\n",
    "le.fit(['Master', 'Phd', 'Bachelor', 'No diploma'])\n",
    "\n",
    "train[\"Diplome\"] = le.transform(train[\"Diplome\"])\n"
   ]
  },
  {
   "cell_type": "code",
   "execution_count": 44,
   "metadata": {
    "colab": {
     "base_uri": "https://localhost:8080/",
     "height": 243
    },
    "id": "aK4pvHcdV3iK",
    "outputId": "64192ae9-f5d5-49dd-8592-a9c2123ae37c"
   },
   "outputs": [
    {
     "data": {
      "text/html": [
       "<div>\n",
       "<style scoped>\n",
       "    .dataframe tbody tr th:only-of-type {\n",
       "        vertical-align: middle;\n",
       "    }\n",
       "\n",
       "    .dataframe tbody tr th {\n",
       "        vertical-align: top;\n",
       "    }\n",
       "\n",
       "    .dataframe thead th {\n",
       "        text-align: right;\n",
       "    }\n",
       "</style>\n",
       "<table border=\"1\" class=\"dataframe\">\n",
       "  <thead>\n",
       "    <tr style=\"text-align: right;\">\n",
       "      <th></th>\n",
       "      <th>Metier</th>\n",
       "      <th>Diplome</th>\n",
       "      <th>Experience</th>\n",
       "      <th>vba</th>\n",
       "      <th>c++</th>\n",
       "      <th>mongodb</th>\n",
       "      <th>hbase</th>\n",
       "      <th>python</th>\n",
       "      <th>mysql</th>\n",
       "      <th>cassandra</th>\n",
       "      <th>...</th>\n",
       "      <th>kafka</th>\n",
       "      <th>nosq</th>\n",
       "      <th>sql</th>\n",
       "      <th>docker</th>\n",
       "      <th>perl</th>\n",
       "      <th>aws</th>\n",
       "      <th>scoring</th>\n",
       "      <th>matlab</th>\n",
       "      <th>pig</th>\n",
       "      <th>elasticsearch</th>\n",
       "    </tr>\n",
       "  </thead>\n",
       "  <tbody>\n",
       "    <tr>\n",
       "      <td>0</td>\n",
       "      <td>2</td>\n",
       "      <td>1</td>\n",
       "      <td>1.0</td>\n",
       "      <td>0</td>\n",
       "      <td>0</td>\n",
       "      <td>0</td>\n",
       "      <td>0</td>\n",
       "      <td>0</td>\n",
       "      <td>0</td>\n",
       "      <td>0</td>\n",
       "      <td>...</td>\n",
       "      <td>0</td>\n",
       "      <td>0</td>\n",
       "      <td>0</td>\n",
       "      <td>0</td>\n",
       "      <td>0</td>\n",
       "      <td>0</td>\n",
       "      <td>0</td>\n",
       "      <td>0</td>\n",
       "      <td>0</td>\n",
       "      <td>0</td>\n",
       "    </tr>\n",
       "    <tr>\n",
       "      <td>1</td>\n",
       "      <td>0</td>\n",
       "      <td>1</td>\n",
       "      <td>3.0</td>\n",
       "      <td>0</td>\n",
       "      <td>0</td>\n",
       "      <td>0</td>\n",
       "      <td>0</td>\n",
       "      <td>0</td>\n",
       "      <td>0</td>\n",
       "      <td>0</td>\n",
       "      <td>...</td>\n",
       "      <td>0</td>\n",
       "      <td>0</td>\n",
       "      <td>0</td>\n",
       "      <td>0</td>\n",
       "      <td>0</td>\n",
       "      <td>0</td>\n",
       "      <td>0</td>\n",
       "      <td>0</td>\n",
       "      <td>0</td>\n",
       "      <td>0</td>\n",
       "    </tr>\n",
       "    <tr>\n",
       "      <td>2</td>\n",
       "      <td>3</td>\n",
       "      <td>1</td>\n",
       "      <td>3.0</td>\n",
       "      <td>0</td>\n",
       "      <td>0</td>\n",
       "      <td>0</td>\n",
       "      <td>0</td>\n",
       "      <td>0</td>\n",
       "      <td>0</td>\n",
       "      <td>0</td>\n",
       "      <td>...</td>\n",
       "      <td>0</td>\n",
       "      <td>0</td>\n",
       "      <td>0</td>\n",
       "      <td>0</td>\n",
       "      <td>0</td>\n",
       "      <td>0</td>\n",
       "      <td>0</td>\n",
       "      <td>0</td>\n",
       "      <td>0</td>\n",
       "      <td>0</td>\n",
       "    </tr>\n",
       "    <tr>\n",
       "      <td>3</td>\n",
       "      <td>2</td>\n",
       "      <td>1</td>\n",
       "      <td>1.5</td>\n",
       "      <td>0</td>\n",
       "      <td>0</td>\n",
       "      <td>0</td>\n",
       "      <td>0</td>\n",
       "      <td>0</td>\n",
       "      <td>0</td>\n",
       "      <td>0</td>\n",
       "      <td>...</td>\n",
       "      <td>0</td>\n",
       "      <td>0</td>\n",
       "      <td>0</td>\n",
       "      <td>0</td>\n",
       "      <td>0</td>\n",
       "      <td>0</td>\n",
       "      <td>0</td>\n",
       "      <td>0</td>\n",
       "      <td>0</td>\n",
       "      <td>0</td>\n",
       "    </tr>\n",
       "    <tr>\n",
       "      <td>4</td>\n",
       "      <td>2</td>\n",
       "      <td>3</td>\n",
       "      <td>2.0</td>\n",
       "      <td>0</td>\n",
       "      <td>0</td>\n",
       "      <td>0</td>\n",
       "      <td>0</td>\n",
       "      <td>0</td>\n",
       "      <td>0</td>\n",
       "      <td>0</td>\n",
       "      <td>...</td>\n",
       "      <td>0</td>\n",
       "      <td>0</td>\n",
       "      <td>0</td>\n",
       "      <td>0</td>\n",
       "      <td>0</td>\n",
       "      <td>0</td>\n",
       "      <td>0</td>\n",
       "      <td>0</td>\n",
       "      <td>0</td>\n",
       "      <td>0</td>\n",
       "    </tr>\n",
       "  </tbody>\n",
       "</table>\n",
       "<p>5 rows × 59 columns</p>\n",
       "</div>"
      ],
      "text/plain": [
       "   Metier  Diplome  Experience  vba  c++  mongodb  hbase  python  mysql  \\\n",
       "0       2        1         1.0    0    0        0      0       0      0   \n",
       "1       0        1         3.0    0    0        0      0       0      0   \n",
       "2       3        1         3.0    0    0        0      0       0      0   \n",
       "3       2        1         1.5    0    0        0      0       0      0   \n",
       "4       2        3         2.0    0    0        0      0       0      0   \n",
       "\n",
       "   cassandra  ...  kafka  nosq  sql  docker  perl  aws  scoring  matlab  pig  \\\n",
       "0          0  ...      0     0    0       0     0    0        0       0    0   \n",
       "1          0  ...      0     0    0       0     0    0        0       0    0   \n",
       "2          0  ...      0     0    0       0     0    0        0       0    0   \n",
       "3          0  ...      0     0    0       0     0    0        0       0    0   \n",
       "4          0  ...      0     0    0       0     0    0        0       0    0   \n",
       "\n",
       "   elasticsearch  \n",
       "0              0  \n",
       "1              0  \n",
       "2              0  \n",
       "3              0  \n",
       "4              0  \n",
       "\n",
       "[5 rows x 59 columns]"
      ]
     },
     "execution_count": 44,
     "metadata": {},
     "output_type": "execute_result"
    }
   ],
   "source": [
    "train.head()"
   ]
  },
  {
   "cell_type": "code",
   "execution_count": 45,
   "metadata": {
    "colab": {
     "base_uri": "https://localhost:8080/",
     "height": 126
    },
    "id": "06UcLYWfWQEK",
    "outputId": "9c125ceb-f359-4056-bc05-00c1e699c84b"
   },
   "outputs": [
    {
     "name": "stderr",
     "output_type": "stream",
     "text": [
      "C:\\Users\\33617\\AppData\\Local\\Continuum\\anaconda3\\lib\\site-packages\\ipykernel_launcher.py:1: SettingWithCopyWarning: \n",
      "A value is trying to be set on a copy of a slice from a DataFrame.\n",
      "Try using .loc[row_indexer,col_indexer] = value instead\n",
      "\n",
      "See the caveats in the documentation: http://pandas.pydata.org/pandas-docs/stable/user_guide/indexing.html#returning-a-view-versus-a-copy\n",
      "  \"\"\"Entry point for launching an IPython kernel.\n"
     ]
    }
   ],
   "source": [
    "test[\"Diplome\"] = le.transform(test[\"Diplome\"])\n"
   ]
  },
  {
   "cell_type": "code",
   "execution_count": 46,
   "metadata": {
    "colab": {
     "base_uri": "https://localhost:8080/",
     "height": 243
    },
    "id": "cLLryXruWVAw",
    "outputId": "076a3c3e-abf9-4d91-8b02-08b11e6fe7fc"
   },
   "outputs": [
    {
     "data": {
      "text/html": [
       "<div>\n",
       "<style scoped>\n",
       "    .dataframe tbody tr th:only-of-type {\n",
       "        vertical-align: middle;\n",
       "    }\n",
       "\n",
       "    .dataframe tbody tr th {\n",
       "        vertical-align: top;\n",
       "    }\n",
       "\n",
       "    .dataframe thead th {\n",
       "        text-align: right;\n",
       "    }\n",
       "</style>\n",
       "<table border=\"1\" class=\"dataframe\">\n",
       "  <thead>\n",
       "    <tr style=\"text-align: right;\">\n",
       "      <th></th>\n",
       "      <th>Metier</th>\n",
       "      <th>Diplome</th>\n",
       "      <th>Experience</th>\n",
       "      <th>vba</th>\n",
       "      <th>c++</th>\n",
       "      <th>mongodb</th>\n",
       "      <th>hbase</th>\n",
       "      <th>python</th>\n",
       "      <th>mysql</th>\n",
       "      <th>cassandra</th>\n",
       "      <th>...</th>\n",
       "      <th>kafka</th>\n",
       "      <th>nosq</th>\n",
       "      <th>sql</th>\n",
       "      <th>docker</th>\n",
       "      <th>perl</th>\n",
       "      <th>aws</th>\n",
       "      <th>scoring</th>\n",
       "      <th>matlab</th>\n",
       "      <th>pig</th>\n",
       "      <th>elasticsearch</th>\n",
       "    </tr>\n",
       "  </thead>\n",
       "  <tbody>\n",
       "    <tr>\n",
       "      <td>346</td>\n",
       "      <td>NaN</td>\n",
       "      <td>2</td>\n",
       "      <td>2.5</td>\n",
       "      <td>0</td>\n",
       "      <td>0</td>\n",
       "      <td>0</td>\n",
       "      <td>0</td>\n",
       "      <td>0</td>\n",
       "      <td>0</td>\n",
       "      <td>0</td>\n",
       "      <td>...</td>\n",
       "      <td>0</td>\n",
       "      <td>0</td>\n",
       "      <td>0</td>\n",
       "      <td>0</td>\n",
       "      <td>0</td>\n",
       "      <td>0</td>\n",
       "      <td>0</td>\n",
       "      <td>0</td>\n",
       "      <td>0</td>\n",
       "      <td>0</td>\n",
       "    </tr>\n",
       "    <tr>\n",
       "      <td>2058</td>\n",
       "      <td>NaN</td>\n",
       "      <td>1</td>\n",
       "      <td>15.0</td>\n",
       "      <td>0</td>\n",
       "      <td>0</td>\n",
       "      <td>0</td>\n",
       "      <td>0</td>\n",
       "      <td>0</td>\n",
       "      <td>0</td>\n",
       "      <td>0</td>\n",
       "      <td>...</td>\n",
       "      <td>0</td>\n",
       "      <td>0</td>\n",
       "      <td>0</td>\n",
       "      <td>0</td>\n",
       "      <td>0</td>\n",
       "      <td>0</td>\n",
       "      <td>0</td>\n",
       "      <td>0</td>\n",
       "      <td>0</td>\n",
       "      <td>0</td>\n",
       "    </tr>\n",
       "    <tr>\n",
       "      <td>2670</td>\n",
       "      <td>NaN</td>\n",
       "      <td>1</td>\n",
       "      <td>1.5</td>\n",
       "      <td>0</td>\n",
       "      <td>0</td>\n",
       "      <td>0</td>\n",
       "      <td>0</td>\n",
       "      <td>0</td>\n",
       "      <td>0</td>\n",
       "      <td>0</td>\n",
       "      <td>...</td>\n",
       "      <td>0</td>\n",
       "      <td>0</td>\n",
       "      <td>0</td>\n",
       "      <td>0</td>\n",
       "      <td>0</td>\n",
       "      <td>0</td>\n",
       "      <td>0</td>\n",
       "      <td>0</td>\n",
       "      <td>0</td>\n",
       "      <td>0</td>\n",
       "    </tr>\n",
       "    <tr>\n",
       "      <td>2899</td>\n",
       "      <td>NaN</td>\n",
       "      <td>3</td>\n",
       "      <td>0.0</td>\n",
       "      <td>0</td>\n",
       "      <td>0</td>\n",
       "      <td>0</td>\n",
       "      <td>0</td>\n",
       "      <td>0</td>\n",
       "      <td>0</td>\n",
       "      <td>0</td>\n",
       "      <td>...</td>\n",
       "      <td>0</td>\n",
       "      <td>0</td>\n",
       "      <td>0</td>\n",
       "      <td>0</td>\n",
       "      <td>0</td>\n",
       "      <td>0</td>\n",
       "      <td>0</td>\n",
       "      <td>0</td>\n",
       "      <td>0</td>\n",
       "      <td>0</td>\n",
       "    </tr>\n",
       "    <tr>\n",
       "      <td>3346</td>\n",
       "      <td>NaN</td>\n",
       "      <td>1</td>\n",
       "      <td>7.0</td>\n",
       "      <td>0</td>\n",
       "      <td>0</td>\n",
       "      <td>0</td>\n",
       "      <td>0</td>\n",
       "      <td>0</td>\n",
       "      <td>0</td>\n",
       "      <td>0</td>\n",
       "      <td>...</td>\n",
       "      <td>0</td>\n",
       "      <td>0</td>\n",
       "      <td>0</td>\n",
       "      <td>0</td>\n",
       "      <td>0</td>\n",
       "      <td>0</td>\n",
       "      <td>0</td>\n",
       "      <td>0</td>\n",
       "      <td>0</td>\n",
       "      <td>0</td>\n",
       "    </tr>\n",
       "  </tbody>\n",
       "</table>\n",
       "<p>5 rows × 59 columns</p>\n",
       "</div>"
      ],
      "text/plain": [
       "     Metier  Diplome  Experience  vba  c++  mongodb  hbase  python  mysql  \\\n",
       "346     NaN        2         2.5    0    0        0      0       0      0   \n",
       "2058    NaN        1        15.0    0    0        0      0       0      0   \n",
       "2670    NaN        1         1.5    0    0        0      0       0      0   \n",
       "2899    NaN        3         0.0    0    0        0      0       0      0   \n",
       "3346    NaN        1         7.0    0    0        0      0       0      0   \n",
       "\n",
       "      cassandra  ...  kafka  nosq  sql  docker  perl  aws  scoring  matlab  \\\n",
       "346           0  ...      0     0    0       0     0    0        0       0   \n",
       "2058          0  ...      0     0    0       0     0    0        0       0   \n",
       "2670          0  ...      0     0    0       0     0    0        0       0   \n",
       "2899          0  ...      0     0    0       0     0    0        0       0   \n",
       "3346          0  ...      0     0    0       0     0    0        0       0   \n",
       "\n",
       "      pig  elasticsearch  \n",
       "346     0              0  \n",
       "2058    0              0  \n",
       "2670    0              0  \n",
       "2899    0              0  \n",
       "3346    0              0  \n",
       "\n",
       "[5 rows x 59 columns]"
      ]
     },
     "execution_count": 46,
     "metadata": {},
     "output_type": "execute_result"
    }
   ],
   "source": [
    "test.head()"
   ]
  },
  {
   "cell_type": "code",
   "execution_count": 47,
   "metadata": {
    "colab": {
     "base_uri": "https://localhost:8080/",
     "height": 217
    },
    "id": "oAjaYFhbXJAA",
    "outputId": "ab901196-49f7-44c4-aa28-7c86207b2f34"
   },
   "outputs": [
    {
     "data": {
      "text/plain": [
       "Index(['Metier', 'Diplome', 'Experience', 'vba', 'c++', 'mongodb', 'hbase',\n",
       "       'python', 'mysql', 'cassandra', 'windows', 'spss', 'deep learning',\n",
       "       'big data', 'pyspark', 'scikit-learn', 'vertica', 'teradata',\n",
       "       'map-reduce', 'hive', 'c', 'mariadb', 'machine learning', 'hdfs', 'gnu',\n",
       "       'tensorflow', 'java', 'yarn', 'spark', 'kibana', 'ruby', 'r', 'excel',\n",
       "       'pycharm', 'sas', 'nosql', 'hadoop', 'hadoop(hdfs)', 'scala', 'anglais',\n",
       "       'oracle', 'microsoft azure', 'redshift', 'tableau', 'numpy', 'ai',\n",
       "       'postgresql', 'linux', 'matplotlib', 'kafka', 'nosq', 'sql', 'docker',\n",
       "       'perl', 'aws', 'scoring', 'matlab', 'pig', 'elasticsearch'],\n",
       "      dtype='object')"
      ]
     },
     "execution_count": 47,
     "metadata": {},
     "output_type": "execute_result"
    }
   ],
   "source": [
    "train.columns"
   ]
  },
  {
   "cell_type": "code",
   "execution_count": 48,
   "metadata": {
    "id": "rL4H2M6HXMwu"
   },
   "outputs": [],
   "source": [
    "x = train.columns\n"
   ]
  },
  {
   "cell_type": "markdown",
   "metadata": {},
   "source": [
    "### Phase d'apprentissage"
   ]
  },
  {
   "cell_type": "code",
   "execution_count": 49,
   "metadata": {
    "id": "BHIut2z8WWqn"
   },
   "outputs": [],
   "source": [
    "y = train[\"Metier\"]\n",
    "X = train.drop([\"Metier\"], axis=1)"
   ]
  },
  {
   "cell_type": "code",
   "execution_count": 50,
   "metadata": {
    "id": "K8NBIVtfXqZo"
   },
   "outputs": [],
   "source": [
    "X_test= test.drop([\"Metier\"], axis=1)"
   ]
  },
  {
   "cell_type": "markdown",
   "metadata": {},
   "source": [
    "### Definition des arbres de décisions"
   ]
  },
  {
   "cell_type": "code",
   "execution_count": 51,
   "metadata": {
    "id": "DVoFfnPyXrjS"
   },
   "outputs": [],
   "source": [
    "from sklearn.tree import DecisionTreeClassifier # Import Decision Tree Classifier\n",
    "from sklearn.model_selection import train_test_split # Import train_test_split function\n",
    "from sklearn import metrics #Import scikit-learn metrics module for accuracy calculation"
   ]
  },
  {
   "cell_type": "code",
   "execution_count": 52,
   "metadata": {
    "id": "zDcj8UQ1YJEi"
   },
   "outputs": [],
   "source": [
    "X_train, X_val, y_train, y_val = train_test_split(X, y, test_size=0.2, random_state=1) # 70% training and 30% test"
   ]
  },
  {
   "cell_type": "code",
   "execution_count": 53,
   "metadata": {
    "id": "2di8kL5sYFqW"
   },
   "outputs": [],
   "source": [
    "# Create Decision Tree classifer object\n",
    "clf = DecisionTreeClassifier(criterion=\"entropy\", max_depth=50)\n",
    "\n",
    "# Train Decision Tree Classifer\n",
    "clf = clf.fit(X_train,y_train)\n",
    "\n",
    "#Predict the response for test dataset\n",
    "y_pred = clf.predict(X_val)"
   ]
  },
  {
   "cell_type": "markdown",
   "metadata": {},
   "source": [
    "### On trouve un score moyen de 0.56 avec une arbre de 50 de profondeur"
   ]
  },
  {
   "cell_type": "code",
   "execution_count": 54,
   "metadata": {
    "colab": {
     "base_uri": "https://localhost:8080/",
     "height": 35
    },
    "id": "NZ4eVp6DYU57",
    "outputId": "bd5b2ad8-92a7-4c8f-a160-4bd5135c42c6"
   },
   "outputs": [
    {
     "name": "stdout",
     "output_type": "stream",
     "text": [
      "Accuracy: 0.5645582854155776\n"
     ]
    }
   ],
   "source": [
    "print(\"Accuracy:\",metrics.accuracy_score(y_val, y_pred))"
   ]
  },
  {
   "cell_type": "markdown",
   "metadata": {},
   "source": [
    "### Prédiction pour data test"
   ]
  },
  {
   "cell_type": "code",
   "execution_count": 55,
   "metadata": {
    "id": "Lz6Zz2XTYoKW"
   },
   "outputs": [
    {
     "data": {
      "text/html": [
       "<div>\n",
       "<style scoped>\n",
       "    .dataframe tbody tr th:only-of-type {\n",
       "        vertical-align: middle;\n",
       "    }\n",
       "\n",
       "    .dataframe tbody tr th {\n",
       "        vertical-align: top;\n",
       "    }\n",
       "\n",
       "    .dataframe thead th {\n",
       "        text-align: right;\n",
       "    }\n",
       "</style>\n",
       "<table border=\"1\" class=\"dataframe\">\n",
       "  <thead>\n",
       "    <tr style=\"text-align: right;\">\n",
       "      <th></th>\n",
       "      <th>Diplome</th>\n",
       "      <th>Experience</th>\n",
       "      <th>vba</th>\n",
       "      <th>c++</th>\n",
       "      <th>mongodb</th>\n",
       "      <th>hbase</th>\n",
       "      <th>python</th>\n",
       "      <th>mysql</th>\n",
       "      <th>cassandra</th>\n",
       "      <th>windows</th>\n",
       "      <th>...</th>\n",
       "      <th>kafka</th>\n",
       "      <th>nosq</th>\n",
       "      <th>sql</th>\n",
       "      <th>docker</th>\n",
       "      <th>perl</th>\n",
       "      <th>aws</th>\n",
       "      <th>scoring</th>\n",
       "      <th>matlab</th>\n",
       "      <th>pig</th>\n",
       "      <th>elasticsearch</th>\n",
       "    </tr>\n",
       "  </thead>\n",
       "  <tbody>\n",
       "    <tr>\n",
       "      <td>346</td>\n",
       "      <td>2</td>\n",
       "      <td>2.5</td>\n",
       "      <td>0</td>\n",
       "      <td>0</td>\n",
       "      <td>0</td>\n",
       "      <td>0</td>\n",
       "      <td>0</td>\n",
       "      <td>0</td>\n",
       "      <td>0</td>\n",
       "      <td>0</td>\n",
       "      <td>...</td>\n",
       "      <td>0</td>\n",
       "      <td>0</td>\n",
       "      <td>0</td>\n",
       "      <td>0</td>\n",
       "      <td>0</td>\n",
       "      <td>0</td>\n",
       "      <td>0</td>\n",
       "      <td>0</td>\n",
       "      <td>0</td>\n",
       "      <td>0</td>\n",
       "    </tr>\n",
       "    <tr>\n",
       "      <td>2058</td>\n",
       "      <td>1</td>\n",
       "      <td>15.0</td>\n",
       "      <td>0</td>\n",
       "      <td>0</td>\n",
       "      <td>0</td>\n",
       "      <td>0</td>\n",
       "      <td>0</td>\n",
       "      <td>0</td>\n",
       "      <td>0</td>\n",
       "      <td>0</td>\n",
       "      <td>...</td>\n",
       "      <td>0</td>\n",
       "      <td>0</td>\n",
       "      <td>0</td>\n",
       "      <td>0</td>\n",
       "      <td>0</td>\n",
       "      <td>0</td>\n",
       "      <td>0</td>\n",
       "      <td>0</td>\n",
       "      <td>0</td>\n",
       "      <td>0</td>\n",
       "    </tr>\n",
       "    <tr>\n",
       "      <td>2670</td>\n",
       "      <td>1</td>\n",
       "      <td>1.5</td>\n",
       "      <td>0</td>\n",
       "      <td>0</td>\n",
       "      <td>0</td>\n",
       "      <td>0</td>\n",
       "      <td>0</td>\n",
       "      <td>0</td>\n",
       "      <td>0</td>\n",
       "      <td>0</td>\n",
       "      <td>...</td>\n",
       "      <td>0</td>\n",
       "      <td>0</td>\n",
       "      <td>0</td>\n",
       "      <td>0</td>\n",
       "      <td>0</td>\n",
       "      <td>0</td>\n",
       "      <td>0</td>\n",
       "      <td>0</td>\n",
       "      <td>0</td>\n",
       "      <td>0</td>\n",
       "    </tr>\n",
       "    <tr>\n",
       "      <td>2899</td>\n",
       "      <td>3</td>\n",
       "      <td>0.0</td>\n",
       "      <td>0</td>\n",
       "      <td>0</td>\n",
       "      <td>0</td>\n",
       "      <td>0</td>\n",
       "      <td>0</td>\n",
       "      <td>0</td>\n",
       "      <td>0</td>\n",
       "      <td>0</td>\n",
       "      <td>...</td>\n",
       "      <td>0</td>\n",
       "      <td>0</td>\n",
       "      <td>0</td>\n",
       "      <td>0</td>\n",
       "      <td>0</td>\n",
       "      <td>0</td>\n",
       "      <td>0</td>\n",
       "      <td>0</td>\n",
       "      <td>0</td>\n",
       "      <td>0</td>\n",
       "    </tr>\n",
       "    <tr>\n",
       "      <td>3346</td>\n",
       "      <td>1</td>\n",
       "      <td>7.0</td>\n",
       "      <td>0</td>\n",
       "      <td>0</td>\n",
       "      <td>0</td>\n",
       "      <td>0</td>\n",
       "      <td>0</td>\n",
       "      <td>0</td>\n",
       "      <td>0</td>\n",
       "      <td>0</td>\n",
       "      <td>...</td>\n",
       "      <td>0</td>\n",
       "      <td>0</td>\n",
       "      <td>0</td>\n",
       "      <td>0</td>\n",
       "      <td>0</td>\n",
       "      <td>0</td>\n",
       "      <td>0</td>\n",
       "      <td>0</td>\n",
       "      <td>0</td>\n",
       "      <td>0</td>\n",
       "    </tr>\n",
       "  </tbody>\n",
       "</table>\n",
       "<p>5 rows × 58 columns</p>\n",
       "</div>"
      ],
      "text/plain": [
       "      Diplome  Experience  vba  c++  mongodb  hbase  python  mysql  cassandra  \\\n",
       "346         2         2.5    0    0        0      0       0      0          0   \n",
       "2058        1        15.0    0    0        0      0       0      0          0   \n",
       "2670        1         1.5    0    0        0      0       0      0          0   \n",
       "2899        3         0.0    0    0        0      0       0      0          0   \n",
       "3346        1         7.0    0    0        0      0       0      0          0   \n",
       "\n",
       "      windows  ...  kafka  nosq  sql  docker  perl  aws  scoring  matlab  pig  \\\n",
       "346         0  ...      0     0    0       0     0    0        0       0    0   \n",
       "2058        0  ...      0     0    0       0     0    0        0       0    0   \n",
       "2670        0  ...      0     0    0       0     0    0        0       0    0   \n",
       "2899        0  ...      0     0    0       0     0    0        0       0    0   \n",
       "3346        0  ...      0     0    0       0     0    0        0       0    0   \n",
       "\n",
       "      elasticsearch  \n",
       "346               0  \n",
       "2058              0  \n",
       "2670              0  \n",
       "2899              0  \n",
       "3346              0  \n",
       "\n",
       "[5 rows x 58 columns]"
      ]
     },
     "execution_count": 55,
     "metadata": {},
     "output_type": "execute_result"
    }
   ],
   "source": [
    "X_test.head()"
   ]
  },
  {
   "cell_type": "code",
   "execution_count": 56,
   "metadata": {},
   "outputs": [],
   "source": [
    "X_test= test.drop([\"Metier\"], axis=1)"
   ]
  },
  {
   "cell_type": "code",
   "execution_count": 57,
   "metadata": {},
   "outputs": [],
   "source": [
    "pred = clf.predict(X_test)"
   ]
  },
  {
   "cell_type": "code",
   "execution_count": 58,
   "metadata": {},
   "outputs": [
    {
     "data": {
      "text/plain": [
       "array([1, 2, 2, 2, 2, 2, 2, 3, 1, 2, 2, 1, 0, 2, 0, 2, 0, 2, 1])"
      ]
     },
     "execution_count": 58,
     "metadata": {},
     "output_type": "execute_result"
    }
   ],
   "source": [
    "pred"
   ]
  },
  {
   "cell_type": "code",
   "execution_count": 59,
   "metadata": {},
   "outputs": [],
   "source": [
    "X_test['Metier'] = pred"
   ]
  },
  {
   "cell_type": "code",
   "execution_count": 60,
   "metadata": {},
   "outputs": [
    {
     "data": {
      "text/html": [
       "<div>\n",
       "<style scoped>\n",
       "    .dataframe tbody tr th:only-of-type {\n",
       "        vertical-align: middle;\n",
       "    }\n",
       "\n",
       "    .dataframe tbody tr th {\n",
       "        vertical-align: top;\n",
       "    }\n",
       "\n",
       "    .dataframe thead th {\n",
       "        text-align: right;\n",
       "    }\n",
       "</style>\n",
       "<table border=\"1\" class=\"dataframe\">\n",
       "  <thead>\n",
       "    <tr style=\"text-align: right;\">\n",
       "      <th></th>\n",
       "      <th>Diplome</th>\n",
       "      <th>Experience</th>\n",
       "      <th>vba</th>\n",
       "      <th>c++</th>\n",
       "      <th>mongodb</th>\n",
       "      <th>hbase</th>\n",
       "      <th>python</th>\n",
       "      <th>mysql</th>\n",
       "      <th>cassandra</th>\n",
       "      <th>windows</th>\n",
       "      <th>...</th>\n",
       "      <th>nosq</th>\n",
       "      <th>sql</th>\n",
       "      <th>docker</th>\n",
       "      <th>perl</th>\n",
       "      <th>aws</th>\n",
       "      <th>scoring</th>\n",
       "      <th>matlab</th>\n",
       "      <th>pig</th>\n",
       "      <th>elasticsearch</th>\n",
       "      <th>Metier</th>\n",
       "    </tr>\n",
       "  </thead>\n",
       "  <tbody>\n",
       "    <tr>\n",
       "      <td>346</td>\n",
       "      <td>2</td>\n",
       "      <td>2.5</td>\n",
       "      <td>0</td>\n",
       "      <td>0</td>\n",
       "      <td>0</td>\n",
       "      <td>0</td>\n",
       "      <td>0</td>\n",
       "      <td>0</td>\n",
       "      <td>0</td>\n",
       "      <td>0</td>\n",
       "      <td>...</td>\n",
       "      <td>0</td>\n",
       "      <td>0</td>\n",
       "      <td>0</td>\n",
       "      <td>0</td>\n",
       "      <td>0</td>\n",
       "      <td>0</td>\n",
       "      <td>0</td>\n",
       "      <td>0</td>\n",
       "      <td>0</td>\n",
       "      <td>1</td>\n",
       "    </tr>\n",
       "    <tr>\n",
       "      <td>2058</td>\n",
       "      <td>1</td>\n",
       "      <td>15.0</td>\n",
       "      <td>0</td>\n",
       "      <td>0</td>\n",
       "      <td>0</td>\n",
       "      <td>0</td>\n",
       "      <td>0</td>\n",
       "      <td>0</td>\n",
       "      <td>0</td>\n",
       "      <td>0</td>\n",
       "      <td>...</td>\n",
       "      <td>0</td>\n",
       "      <td>0</td>\n",
       "      <td>0</td>\n",
       "      <td>0</td>\n",
       "      <td>0</td>\n",
       "      <td>0</td>\n",
       "      <td>0</td>\n",
       "      <td>0</td>\n",
       "      <td>0</td>\n",
       "      <td>2</td>\n",
       "    </tr>\n",
       "    <tr>\n",
       "      <td>2670</td>\n",
       "      <td>1</td>\n",
       "      <td>1.5</td>\n",
       "      <td>0</td>\n",
       "      <td>0</td>\n",
       "      <td>0</td>\n",
       "      <td>0</td>\n",
       "      <td>0</td>\n",
       "      <td>0</td>\n",
       "      <td>0</td>\n",
       "      <td>0</td>\n",
       "      <td>...</td>\n",
       "      <td>0</td>\n",
       "      <td>0</td>\n",
       "      <td>0</td>\n",
       "      <td>0</td>\n",
       "      <td>0</td>\n",
       "      <td>0</td>\n",
       "      <td>0</td>\n",
       "      <td>0</td>\n",
       "      <td>0</td>\n",
       "      <td>2</td>\n",
       "    </tr>\n",
       "    <tr>\n",
       "      <td>2899</td>\n",
       "      <td>3</td>\n",
       "      <td>0.0</td>\n",
       "      <td>0</td>\n",
       "      <td>0</td>\n",
       "      <td>0</td>\n",
       "      <td>0</td>\n",
       "      <td>0</td>\n",
       "      <td>0</td>\n",
       "      <td>0</td>\n",
       "      <td>0</td>\n",
       "      <td>...</td>\n",
       "      <td>0</td>\n",
       "      <td>0</td>\n",
       "      <td>0</td>\n",
       "      <td>0</td>\n",
       "      <td>0</td>\n",
       "      <td>0</td>\n",
       "      <td>0</td>\n",
       "      <td>0</td>\n",
       "      <td>0</td>\n",
       "      <td>2</td>\n",
       "    </tr>\n",
       "    <tr>\n",
       "      <td>3346</td>\n",
       "      <td>1</td>\n",
       "      <td>7.0</td>\n",
       "      <td>0</td>\n",
       "      <td>0</td>\n",
       "      <td>0</td>\n",
       "      <td>0</td>\n",
       "      <td>0</td>\n",
       "      <td>0</td>\n",
       "      <td>0</td>\n",
       "      <td>0</td>\n",
       "      <td>...</td>\n",
       "      <td>0</td>\n",
       "      <td>0</td>\n",
       "      <td>0</td>\n",
       "      <td>0</td>\n",
       "      <td>0</td>\n",
       "      <td>0</td>\n",
       "      <td>0</td>\n",
       "      <td>0</td>\n",
       "      <td>0</td>\n",
       "      <td>2</td>\n",
       "    </tr>\n",
       "    <tr>\n",
       "      <td>4248</td>\n",
       "      <td>3</td>\n",
       "      <td>2.0</td>\n",
       "      <td>0</td>\n",
       "      <td>0</td>\n",
       "      <td>0</td>\n",
       "      <td>0</td>\n",
       "      <td>0</td>\n",
       "      <td>0</td>\n",
       "      <td>0</td>\n",
       "      <td>0</td>\n",
       "      <td>...</td>\n",
       "      <td>0</td>\n",
       "      <td>0</td>\n",
       "      <td>0</td>\n",
       "      <td>0</td>\n",
       "      <td>0</td>\n",
       "      <td>0</td>\n",
       "      <td>0</td>\n",
       "      <td>0</td>\n",
       "      <td>0</td>\n",
       "      <td>2</td>\n",
       "    </tr>\n",
       "    <tr>\n",
       "      <td>4290</td>\n",
       "      <td>3</td>\n",
       "      <td>1.5</td>\n",
       "      <td>0</td>\n",
       "      <td>0</td>\n",
       "      <td>0</td>\n",
       "      <td>0</td>\n",
       "      <td>0</td>\n",
       "      <td>0</td>\n",
       "      <td>0</td>\n",
       "      <td>0</td>\n",
       "      <td>...</td>\n",
       "      <td>0</td>\n",
       "      <td>0</td>\n",
       "      <td>0</td>\n",
       "      <td>0</td>\n",
       "      <td>0</td>\n",
       "      <td>0</td>\n",
       "      <td>0</td>\n",
       "      <td>0</td>\n",
       "      <td>0</td>\n",
       "      <td>2</td>\n",
       "    </tr>\n",
       "    <tr>\n",
       "      <td>4292</td>\n",
       "      <td>1</td>\n",
       "      <td>8.0</td>\n",
       "      <td>0</td>\n",
       "      <td>0</td>\n",
       "      <td>0</td>\n",
       "      <td>0</td>\n",
       "      <td>0</td>\n",
       "      <td>0</td>\n",
       "      <td>0</td>\n",
       "      <td>0</td>\n",
       "      <td>...</td>\n",
       "      <td>0</td>\n",
       "      <td>0</td>\n",
       "      <td>0</td>\n",
       "      <td>0</td>\n",
       "      <td>0</td>\n",
       "      <td>0</td>\n",
       "      <td>0</td>\n",
       "      <td>0</td>\n",
       "      <td>0</td>\n",
       "      <td>3</td>\n",
       "    </tr>\n",
       "    <tr>\n",
       "      <td>5425</td>\n",
       "      <td>2</td>\n",
       "      <td>5.0</td>\n",
       "      <td>0</td>\n",
       "      <td>0</td>\n",
       "      <td>0</td>\n",
       "      <td>0</td>\n",
       "      <td>0</td>\n",
       "      <td>0</td>\n",
       "      <td>0</td>\n",
       "      <td>0</td>\n",
       "      <td>...</td>\n",
       "      <td>0</td>\n",
       "      <td>0</td>\n",
       "      <td>0</td>\n",
       "      <td>0</td>\n",
       "      <td>0</td>\n",
       "      <td>0</td>\n",
       "      <td>0</td>\n",
       "      <td>0</td>\n",
       "      <td>0</td>\n",
       "      <td>1</td>\n",
       "    </tr>\n",
       "    <tr>\n",
       "      <td>5593</td>\n",
       "      <td>1</td>\n",
       "      <td>3.0</td>\n",
       "      <td>0</td>\n",
       "      <td>0</td>\n",
       "      <td>0</td>\n",
       "      <td>0</td>\n",
       "      <td>0</td>\n",
       "      <td>0</td>\n",
       "      <td>0</td>\n",
       "      <td>0</td>\n",
       "      <td>...</td>\n",
       "      <td>0</td>\n",
       "      <td>0</td>\n",
       "      <td>0</td>\n",
       "      <td>0</td>\n",
       "      <td>0</td>\n",
       "      <td>0</td>\n",
       "      <td>0</td>\n",
       "      <td>0</td>\n",
       "      <td>0</td>\n",
       "      <td>2</td>\n",
       "    </tr>\n",
       "    <tr>\n",
       "      <td>5712</td>\n",
       "      <td>0</td>\n",
       "      <td>3.0</td>\n",
       "      <td>0</td>\n",
       "      <td>0</td>\n",
       "      <td>0</td>\n",
       "      <td>0</td>\n",
       "      <td>0</td>\n",
       "      <td>0</td>\n",
       "      <td>0</td>\n",
       "      <td>0</td>\n",
       "      <td>...</td>\n",
       "      <td>0</td>\n",
       "      <td>0</td>\n",
       "      <td>0</td>\n",
       "      <td>0</td>\n",
       "      <td>0</td>\n",
       "      <td>0</td>\n",
       "      <td>0</td>\n",
       "      <td>0</td>\n",
       "      <td>0</td>\n",
       "      <td>2</td>\n",
       "    </tr>\n",
       "    <tr>\n",
       "      <td>6024</td>\n",
       "      <td>1</td>\n",
       "      <td>1.5</td>\n",
       "      <td>0</td>\n",
       "      <td>0</td>\n",
       "      <td>0</td>\n",
       "      <td>0</td>\n",
       "      <td>0</td>\n",
       "      <td>0</td>\n",
       "      <td>0</td>\n",
       "      <td>0</td>\n",
       "      <td>...</td>\n",
       "      <td>0</td>\n",
       "      <td>0</td>\n",
       "      <td>0</td>\n",
       "      <td>0</td>\n",
       "      <td>0</td>\n",
       "      <td>0</td>\n",
       "      <td>0</td>\n",
       "      <td>0</td>\n",
       "      <td>0</td>\n",
       "      <td>1</td>\n",
       "    </tr>\n",
       "    <tr>\n",
       "      <td>6625</td>\n",
       "      <td>2</td>\n",
       "      <td>0.0</td>\n",
       "      <td>0</td>\n",
       "      <td>0</td>\n",
       "      <td>0</td>\n",
       "      <td>0</td>\n",
       "      <td>0</td>\n",
       "      <td>0</td>\n",
       "      <td>0</td>\n",
       "      <td>0</td>\n",
       "      <td>...</td>\n",
       "      <td>0</td>\n",
       "      <td>0</td>\n",
       "      <td>0</td>\n",
       "      <td>0</td>\n",
       "      <td>0</td>\n",
       "      <td>0</td>\n",
       "      <td>0</td>\n",
       "      <td>0</td>\n",
       "      <td>0</td>\n",
       "      <td>0</td>\n",
       "    </tr>\n",
       "    <tr>\n",
       "      <td>7091</td>\n",
       "      <td>1</td>\n",
       "      <td>0.0</td>\n",
       "      <td>0</td>\n",
       "      <td>0</td>\n",
       "      <td>0</td>\n",
       "      <td>0</td>\n",
       "      <td>0</td>\n",
       "      <td>0</td>\n",
       "      <td>0</td>\n",
       "      <td>0</td>\n",
       "      <td>...</td>\n",
       "      <td>0</td>\n",
       "      <td>0</td>\n",
       "      <td>0</td>\n",
       "      <td>0</td>\n",
       "      <td>0</td>\n",
       "      <td>0</td>\n",
       "      <td>0</td>\n",
       "      <td>0</td>\n",
       "      <td>0</td>\n",
       "      <td>2</td>\n",
       "    </tr>\n",
       "    <tr>\n",
       "      <td>7228</td>\n",
       "      <td>1</td>\n",
       "      <td>2.5</td>\n",
       "      <td>0</td>\n",
       "      <td>0</td>\n",
       "      <td>0</td>\n",
       "      <td>0</td>\n",
       "      <td>0</td>\n",
       "      <td>0</td>\n",
       "      <td>0</td>\n",
       "      <td>0</td>\n",
       "      <td>...</td>\n",
       "      <td>0</td>\n",
       "      <td>0</td>\n",
       "      <td>0</td>\n",
       "      <td>0</td>\n",
       "      <td>0</td>\n",
       "      <td>0</td>\n",
       "      <td>0</td>\n",
       "      <td>0</td>\n",
       "      <td>0</td>\n",
       "      <td>0</td>\n",
       "    </tr>\n",
       "    <tr>\n",
       "      <td>7330</td>\n",
       "      <td>3</td>\n",
       "      <td>0.5</td>\n",
       "      <td>0</td>\n",
       "      <td>0</td>\n",
       "      <td>0</td>\n",
       "      <td>0</td>\n",
       "      <td>0</td>\n",
       "      <td>0</td>\n",
       "      <td>0</td>\n",
       "      <td>0</td>\n",
       "      <td>...</td>\n",
       "      <td>0</td>\n",
       "      <td>0</td>\n",
       "      <td>0</td>\n",
       "      <td>0</td>\n",
       "      <td>0</td>\n",
       "      <td>0</td>\n",
       "      <td>0</td>\n",
       "      <td>0</td>\n",
       "      <td>0</td>\n",
       "      <td>2</td>\n",
       "    </tr>\n",
       "    <tr>\n",
       "      <td>9087</td>\n",
       "      <td>2</td>\n",
       "      <td>3.5</td>\n",
       "      <td>0</td>\n",
       "      <td>0</td>\n",
       "      <td>0</td>\n",
       "      <td>0</td>\n",
       "      <td>0</td>\n",
       "      <td>0</td>\n",
       "      <td>0</td>\n",
       "      <td>0</td>\n",
       "      <td>...</td>\n",
       "      <td>0</td>\n",
       "      <td>0</td>\n",
       "      <td>0</td>\n",
       "      <td>0</td>\n",
       "      <td>0</td>\n",
       "      <td>0</td>\n",
       "      <td>0</td>\n",
       "      <td>0</td>\n",
       "      <td>0</td>\n",
       "      <td>0</td>\n",
       "    </tr>\n",
       "    <tr>\n",
       "      <td>9427</td>\n",
       "      <td>1</td>\n",
       "      <td>1.0</td>\n",
       "      <td>0</td>\n",
       "      <td>0</td>\n",
       "      <td>0</td>\n",
       "      <td>0</td>\n",
       "      <td>0</td>\n",
       "      <td>0</td>\n",
       "      <td>0</td>\n",
       "      <td>0</td>\n",
       "      <td>...</td>\n",
       "      <td>0</td>\n",
       "      <td>0</td>\n",
       "      <td>0</td>\n",
       "      <td>0</td>\n",
       "      <td>0</td>\n",
       "      <td>0</td>\n",
       "      <td>0</td>\n",
       "      <td>0</td>\n",
       "      <td>0</td>\n",
       "      <td>2</td>\n",
       "    </tr>\n",
       "    <tr>\n",
       "      <td>9490</td>\n",
       "      <td>1</td>\n",
       "      <td>4.0</td>\n",
       "      <td>0</td>\n",
       "      <td>0</td>\n",
       "      <td>0</td>\n",
       "      <td>0</td>\n",
       "      <td>0</td>\n",
       "      <td>0</td>\n",
       "      <td>0</td>\n",
       "      <td>0</td>\n",
       "      <td>...</td>\n",
       "      <td>0</td>\n",
       "      <td>0</td>\n",
       "      <td>0</td>\n",
       "      <td>0</td>\n",
       "      <td>0</td>\n",
       "      <td>0</td>\n",
       "      <td>0</td>\n",
       "      <td>0</td>\n",
       "      <td>0</td>\n",
       "      <td>1</td>\n",
       "    </tr>\n",
       "  </tbody>\n",
       "</table>\n",
       "<p>19 rows × 59 columns</p>\n",
       "</div>"
      ],
      "text/plain": [
       "      Diplome  Experience  vba  c++  mongodb  hbase  python  mysql  cassandra  \\\n",
       "346         2         2.5    0    0        0      0       0      0          0   \n",
       "2058        1        15.0    0    0        0      0       0      0          0   \n",
       "2670        1         1.5    0    0        0      0       0      0          0   \n",
       "2899        3         0.0    0    0        0      0       0      0          0   \n",
       "3346        1         7.0    0    0        0      0       0      0          0   \n",
       "4248        3         2.0    0    0        0      0       0      0          0   \n",
       "4290        3         1.5    0    0        0      0       0      0          0   \n",
       "4292        1         8.0    0    0        0      0       0      0          0   \n",
       "5425        2         5.0    0    0        0      0       0      0          0   \n",
       "5593        1         3.0    0    0        0      0       0      0          0   \n",
       "5712        0         3.0    0    0        0      0       0      0          0   \n",
       "6024        1         1.5    0    0        0      0       0      0          0   \n",
       "6625        2         0.0    0    0        0      0       0      0          0   \n",
       "7091        1         0.0    0    0        0      0       0      0          0   \n",
       "7228        1         2.5    0    0        0      0       0      0          0   \n",
       "7330        3         0.5    0    0        0      0       0      0          0   \n",
       "9087        2         3.5    0    0        0      0       0      0          0   \n",
       "9427        1         1.0    0    0        0      0       0      0          0   \n",
       "9490        1         4.0    0    0        0      0       0      0          0   \n",
       "\n",
       "      windows  ...  nosq  sql  docker  perl  aws  scoring  matlab  pig  \\\n",
       "346         0  ...     0    0       0     0    0        0       0    0   \n",
       "2058        0  ...     0    0       0     0    0        0       0    0   \n",
       "2670        0  ...     0    0       0     0    0        0       0    0   \n",
       "2899        0  ...     0    0       0     0    0        0       0    0   \n",
       "3346        0  ...     0    0       0     0    0        0       0    0   \n",
       "4248        0  ...     0    0       0     0    0        0       0    0   \n",
       "4290        0  ...     0    0       0     0    0        0       0    0   \n",
       "4292        0  ...     0    0       0     0    0        0       0    0   \n",
       "5425        0  ...     0    0       0     0    0        0       0    0   \n",
       "5593        0  ...     0    0       0     0    0        0       0    0   \n",
       "5712        0  ...     0    0       0     0    0        0       0    0   \n",
       "6024        0  ...     0    0       0     0    0        0       0    0   \n",
       "6625        0  ...     0    0       0     0    0        0       0    0   \n",
       "7091        0  ...     0    0       0     0    0        0       0    0   \n",
       "7228        0  ...     0    0       0     0    0        0       0    0   \n",
       "7330        0  ...     0    0       0     0    0        0       0    0   \n",
       "9087        0  ...     0    0       0     0    0        0       0    0   \n",
       "9427        0  ...     0    0       0     0    0        0       0    0   \n",
       "9490        0  ...     0    0       0     0    0        0       0    0   \n",
       "\n",
       "      elasticsearch  Metier  \n",
       "346               0       1  \n",
       "2058              0       2  \n",
       "2670              0       2  \n",
       "2899              0       2  \n",
       "3346              0       2  \n",
       "4248              0       2  \n",
       "4290              0       2  \n",
       "4292              0       3  \n",
       "5425              0       1  \n",
       "5593              0       2  \n",
       "5712              0       2  \n",
       "6024              0       1  \n",
       "6625              0       0  \n",
       "7091              0       2  \n",
       "7228              0       0  \n",
       "7330              0       2  \n",
       "9087              0       0  \n",
       "9427              0       2  \n",
       "9490              0       1  \n",
       "\n",
       "[19 rows x 59 columns]"
      ]
     },
     "execution_count": 60,
     "metadata": {},
     "output_type": "execute_result"
    }
   ],
   "source": [
    "X_test"
   ]
  },
  {
   "cell_type": "markdown",
   "metadata": {},
   "source": [
    "### Random Forest Classifier"
   ]
  },
  {
   "cell_type": "code",
   "execution_count": 61,
   "metadata": {},
   "outputs": [],
   "source": [
    "from sklearn.ensemble import RandomForestClassifier\n",
    "clf = RandomForestClassifier(max_depth=50, random_state=0)\n",
    "clf.fit(X_train,y_train)\n",
    "y_pred = clf.predict(X_val)"
   ]
  },
  {
   "cell_type": "code",
   "execution_count": 62,
   "metadata": {},
   "outputs": [
    {
     "name": "stdout",
     "output_type": "stream",
     "text": [
      "Accuracy: 0.5608991113434396\n"
     ]
    }
   ],
   "source": [
    "print(\"Accuracy:\",metrics.accuracy_score(y_val, y_pred))"
   ]
  },
  {
   "cell_type": "code",
   "execution_count": 63,
   "metadata": {},
   "outputs": [
    {
     "data": {
      "text/html": [
       "<div>\n",
       "<style scoped>\n",
       "    .dataframe tbody tr th:only-of-type {\n",
       "        vertical-align: middle;\n",
       "    }\n",
       "\n",
       "    .dataframe tbody tr th {\n",
       "        vertical-align: top;\n",
       "    }\n",
       "\n",
       "    .dataframe thead th {\n",
       "        text-align: right;\n",
       "    }\n",
       "</style>\n",
       "<table border=\"1\" class=\"dataframe\">\n",
       "  <thead>\n",
       "    <tr style=\"text-align: right;\">\n",
       "      <th></th>\n",
       "      <th>Diplome</th>\n",
       "      <th>Experience</th>\n",
       "      <th>vba</th>\n",
       "      <th>c++</th>\n",
       "      <th>mongodb</th>\n",
       "      <th>hbase</th>\n",
       "      <th>python</th>\n",
       "      <th>mysql</th>\n",
       "      <th>cassandra</th>\n",
       "      <th>windows</th>\n",
       "      <th>...</th>\n",
       "      <th>nosq</th>\n",
       "      <th>sql</th>\n",
       "      <th>docker</th>\n",
       "      <th>perl</th>\n",
       "      <th>aws</th>\n",
       "      <th>scoring</th>\n",
       "      <th>matlab</th>\n",
       "      <th>pig</th>\n",
       "      <th>elasticsearch</th>\n",
       "      <th>Metier</th>\n",
       "    </tr>\n",
       "  </thead>\n",
       "  <tbody>\n",
       "    <tr>\n",
       "      <td>346</td>\n",
       "      <td>2</td>\n",
       "      <td>2.5</td>\n",
       "      <td>0</td>\n",
       "      <td>0</td>\n",
       "      <td>0</td>\n",
       "      <td>0</td>\n",
       "      <td>0</td>\n",
       "      <td>0</td>\n",
       "      <td>0</td>\n",
       "      <td>0</td>\n",
       "      <td>...</td>\n",
       "      <td>0</td>\n",
       "      <td>0</td>\n",
       "      <td>0</td>\n",
       "      <td>0</td>\n",
       "      <td>0</td>\n",
       "      <td>0</td>\n",
       "      <td>0</td>\n",
       "      <td>0</td>\n",
       "      <td>0</td>\n",
       "      <td>1</td>\n",
       "    </tr>\n",
       "    <tr>\n",
       "      <td>2058</td>\n",
       "      <td>1</td>\n",
       "      <td>15.0</td>\n",
       "      <td>0</td>\n",
       "      <td>0</td>\n",
       "      <td>0</td>\n",
       "      <td>0</td>\n",
       "      <td>0</td>\n",
       "      <td>0</td>\n",
       "      <td>0</td>\n",
       "      <td>0</td>\n",
       "      <td>...</td>\n",
       "      <td>0</td>\n",
       "      <td>0</td>\n",
       "      <td>0</td>\n",
       "      <td>0</td>\n",
       "      <td>0</td>\n",
       "      <td>0</td>\n",
       "      <td>0</td>\n",
       "      <td>0</td>\n",
       "      <td>0</td>\n",
       "      <td>2</td>\n",
       "    </tr>\n",
       "    <tr>\n",
       "      <td>2670</td>\n",
       "      <td>1</td>\n",
       "      <td>1.5</td>\n",
       "      <td>0</td>\n",
       "      <td>0</td>\n",
       "      <td>0</td>\n",
       "      <td>0</td>\n",
       "      <td>0</td>\n",
       "      <td>0</td>\n",
       "      <td>0</td>\n",
       "      <td>0</td>\n",
       "      <td>...</td>\n",
       "      <td>0</td>\n",
       "      <td>0</td>\n",
       "      <td>0</td>\n",
       "      <td>0</td>\n",
       "      <td>0</td>\n",
       "      <td>0</td>\n",
       "      <td>0</td>\n",
       "      <td>0</td>\n",
       "      <td>0</td>\n",
       "      <td>2</td>\n",
       "    </tr>\n",
       "    <tr>\n",
       "      <td>2899</td>\n",
       "      <td>3</td>\n",
       "      <td>0.0</td>\n",
       "      <td>0</td>\n",
       "      <td>0</td>\n",
       "      <td>0</td>\n",
       "      <td>0</td>\n",
       "      <td>0</td>\n",
       "      <td>0</td>\n",
       "      <td>0</td>\n",
       "      <td>0</td>\n",
       "      <td>...</td>\n",
       "      <td>0</td>\n",
       "      <td>0</td>\n",
       "      <td>0</td>\n",
       "      <td>0</td>\n",
       "      <td>0</td>\n",
       "      <td>0</td>\n",
       "      <td>0</td>\n",
       "      <td>0</td>\n",
       "      <td>0</td>\n",
       "      <td>2</td>\n",
       "    </tr>\n",
       "    <tr>\n",
       "      <td>3346</td>\n",
       "      <td>1</td>\n",
       "      <td>7.0</td>\n",
       "      <td>0</td>\n",
       "      <td>0</td>\n",
       "      <td>0</td>\n",
       "      <td>0</td>\n",
       "      <td>0</td>\n",
       "      <td>0</td>\n",
       "      <td>0</td>\n",
       "      <td>0</td>\n",
       "      <td>...</td>\n",
       "      <td>0</td>\n",
       "      <td>0</td>\n",
       "      <td>0</td>\n",
       "      <td>0</td>\n",
       "      <td>0</td>\n",
       "      <td>0</td>\n",
       "      <td>0</td>\n",
       "      <td>0</td>\n",
       "      <td>0</td>\n",
       "      <td>2</td>\n",
       "    </tr>\n",
       "    <tr>\n",
       "      <td>4248</td>\n",
       "      <td>3</td>\n",
       "      <td>2.0</td>\n",
       "      <td>0</td>\n",
       "      <td>0</td>\n",
       "      <td>0</td>\n",
       "      <td>0</td>\n",
       "      <td>0</td>\n",
       "      <td>0</td>\n",
       "      <td>0</td>\n",
       "      <td>0</td>\n",
       "      <td>...</td>\n",
       "      <td>0</td>\n",
       "      <td>0</td>\n",
       "      <td>0</td>\n",
       "      <td>0</td>\n",
       "      <td>0</td>\n",
       "      <td>0</td>\n",
       "      <td>0</td>\n",
       "      <td>0</td>\n",
       "      <td>0</td>\n",
       "      <td>2</td>\n",
       "    </tr>\n",
       "    <tr>\n",
       "      <td>4290</td>\n",
       "      <td>3</td>\n",
       "      <td>1.5</td>\n",
       "      <td>0</td>\n",
       "      <td>0</td>\n",
       "      <td>0</td>\n",
       "      <td>0</td>\n",
       "      <td>0</td>\n",
       "      <td>0</td>\n",
       "      <td>0</td>\n",
       "      <td>0</td>\n",
       "      <td>...</td>\n",
       "      <td>0</td>\n",
       "      <td>0</td>\n",
       "      <td>0</td>\n",
       "      <td>0</td>\n",
       "      <td>0</td>\n",
       "      <td>0</td>\n",
       "      <td>0</td>\n",
       "      <td>0</td>\n",
       "      <td>0</td>\n",
       "      <td>2</td>\n",
       "    </tr>\n",
       "    <tr>\n",
       "      <td>4292</td>\n",
       "      <td>1</td>\n",
       "      <td>8.0</td>\n",
       "      <td>0</td>\n",
       "      <td>0</td>\n",
       "      <td>0</td>\n",
       "      <td>0</td>\n",
       "      <td>0</td>\n",
       "      <td>0</td>\n",
       "      <td>0</td>\n",
       "      <td>0</td>\n",
       "      <td>...</td>\n",
       "      <td>0</td>\n",
       "      <td>0</td>\n",
       "      <td>0</td>\n",
       "      <td>0</td>\n",
       "      <td>0</td>\n",
       "      <td>0</td>\n",
       "      <td>0</td>\n",
       "      <td>0</td>\n",
       "      <td>0</td>\n",
       "      <td>3</td>\n",
       "    </tr>\n",
       "    <tr>\n",
       "      <td>5425</td>\n",
       "      <td>2</td>\n",
       "      <td>5.0</td>\n",
       "      <td>0</td>\n",
       "      <td>0</td>\n",
       "      <td>0</td>\n",
       "      <td>0</td>\n",
       "      <td>0</td>\n",
       "      <td>0</td>\n",
       "      <td>0</td>\n",
       "      <td>0</td>\n",
       "      <td>...</td>\n",
       "      <td>0</td>\n",
       "      <td>0</td>\n",
       "      <td>0</td>\n",
       "      <td>0</td>\n",
       "      <td>0</td>\n",
       "      <td>0</td>\n",
       "      <td>0</td>\n",
       "      <td>0</td>\n",
       "      <td>0</td>\n",
       "      <td>1</td>\n",
       "    </tr>\n",
       "    <tr>\n",
       "      <td>5593</td>\n",
       "      <td>1</td>\n",
       "      <td>3.0</td>\n",
       "      <td>0</td>\n",
       "      <td>0</td>\n",
       "      <td>0</td>\n",
       "      <td>0</td>\n",
       "      <td>0</td>\n",
       "      <td>0</td>\n",
       "      <td>0</td>\n",
       "      <td>0</td>\n",
       "      <td>...</td>\n",
       "      <td>0</td>\n",
       "      <td>0</td>\n",
       "      <td>0</td>\n",
       "      <td>0</td>\n",
       "      <td>0</td>\n",
       "      <td>0</td>\n",
       "      <td>0</td>\n",
       "      <td>0</td>\n",
       "      <td>0</td>\n",
       "      <td>2</td>\n",
       "    </tr>\n",
       "    <tr>\n",
       "      <td>5712</td>\n",
       "      <td>0</td>\n",
       "      <td>3.0</td>\n",
       "      <td>0</td>\n",
       "      <td>0</td>\n",
       "      <td>0</td>\n",
       "      <td>0</td>\n",
       "      <td>0</td>\n",
       "      <td>0</td>\n",
       "      <td>0</td>\n",
       "      <td>0</td>\n",
       "      <td>...</td>\n",
       "      <td>0</td>\n",
       "      <td>0</td>\n",
       "      <td>0</td>\n",
       "      <td>0</td>\n",
       "      <td>0</td>\n",
       "      <td>0</td>\n",
       "      <td>0</td>\n",
       "      <td>0</td>\n",
       "      <td>0</td>\n",
       "      <td>2</td>\n",
       "    </tr>\n",
       "    <tr>\n",
       "      <td>6024</td>\n",
       "      <td>1</td>\n",
       "      <td>1.5</td>\n",
       "      <td>0</td>\n",
       "      <td>0</td>\n",
       "      <td>0</td>\n",
       "      <td>0</td>\n",
       "      <td>0</td>\n",
       "      <td>0</td>\n",
       "      <td>0</td>\n",
       "      <td>0</td>\n",
       "      <td>...</td>\n",
       "      <td>0</td>\n",
       "      <td>0</td>\n",
       "      <td>0</td>\n",
       "      <td>0</td>\n",
       "      <td>0</td>\n",
       "      <td>0</td>\n",
       "      <td>0</td>\n",
       "      <td>0</td>\n",
       "      <td>0</td>\n",
       "      <td>1</td>\n",
       "    </tr>\n",
       "    <tr>\n",
       "      <td>6625</td>\n",
       "      <td>2</td>\n",
       "      <td>0.0</td>\n",
       "      <td>0</td>\n",
       "      <td>0</td>\n",
       "      <td>0</td>\n",
       "      <td>0</td>\n",
       "      <td>0</td>\n",
       "      <td>0</td>\n",
       "      <td>0</td>\n",
       "      <td>0</td>\n",
       "      <td>...</td>\n",
       "      <td>0</td>\n",
       "      <td>0</td>\n",
       "      <td>0</td>\n",
       "      <td>0</td>\n",
       "      <td>0</td>\n",
       "      <td>0</td>\n",
       "      <td>0</td>\n",
       "      <td>0</td>\n",
       "      <td>0</td>\n",
       "      <td>0</td>\n",
       "    </tr>\n",
       "    <tr>\n",
       "      <td>7091</td>\n",
       "      <td>1</td>\n",
       "      <td>0.0</td>\n",
       "      <td>0</td>\n",
       "      <td>0</td>\n",
       "      <td>0</td>\n",
       "      <td>0</td>\n",
       "      <td>0</td>\n",
       "      <td>0</td>\n",
       "      <td>0</td>\n",
       "      <td>0</td>\n",
       "      <td>...</td>\n",
       "      <td>0</td>\n",
       "      <td>0</td>\n",
       "      <td>0</td>\n",
       "      <td>0</td>\n",
       "      <td>0</td>\n",
       "      <td>0</td>\n",
       "      <td>0</td>\n",
       "      <td>0</td>\n",
       "      <td>0</td>\n",
       "      <td>2</td>\n",
       "    </tr>\n",
       "    <tr>\n",
       "      <td>7228</td>\n",
       "      <td>1</td>\n",
       "      <td>2.5</td>\n",
       "      <td>0</td>\n",
       "      <td>0</td>\n",
       "      <td>0</td>\n",
       "      <td>0</td>\n",
       "      <td>0</td>\n",
       "      <td>0</td>\n",
       "      <td>0</td>\n",
       "      <td>0</td>\n",
       "      <td>...</td>\n",
       "      <td>0</td>\n",
       "      <td>0</td>\n",
       "      <td>0</td>\n",
       "      <td>0</td>\n",
       "      <td>0</td>\n",
       "      <td>0</td>\n",
       "      <td>0</td>\n",
       "      <td>0</td>\n",
       "      <td>0</td>\n",
       "      <td>0</td>\n",
       "    </tr>\n",
       "    <tr>\n",
       "      <td>7330</td>\n",
       "      <td>3</td>\n",
       "      <td>0.5</td>\n",
       "      <td>0</td>\n",
       "      <td>0</td>\n",
       "      <td>0</td>\n",
       "      <td>0</td>\n",
       "      <td>0</td>\n",
       "      <td>0</td>\n",
       "      <td>0</td>\n",
       "      <td>0</td>\n",
       "      <td>...</td>\n",
       "      <td>0</td>\n",
       "      <td>0</td>\n",
       "      <td>0</td>\n",
       "      <td>0</td>\n",
       "      <td>0</td>\n",
       "      <td>0</td>\n",
       "      <td>0</td>\n",
       "      <td>0</td>\n",
       "      <td>0</td>\n",
       "      <td>2</td>\n",
       "    </tr>\n",
       "    <tr>\n",
       "      <td>9087</td>\n",
       "      <td>2</td>\n",
       "      <td>3.5</td>\n",
       "      <td>0</td>\n",
       "      <td>0</td>\n",
       "      <td>0</td>\n",
       "      <td>0</td>\n",
       "      <td>0</td>\n",
       "      <td>0</td>\n",
       "      <td>0</td>\n",
       "      <td>0</td>\n",
       "      <td>...</td>\n",
       "      <td>0</td>\n",
       "      <td>0</td>\n",
       "      <td>0</td>\n",
       "      <td>0</td>\n",
       "      <td>0</td>\n",
       "      <td>0</td>\n",
       "      <td>0</td>\n",
       "      <td>0</td>\n",
       "      <td>0</td>\n",
       "      <td>0</td>\n",
       "    </tr>\n",
       "    <tr>\n",
       "      <td>9427</td>\n",
       "      <td>1</td>\n",
       "      <td>1.0</td>\n",
       "      <td>0</td>\n",
       "      <td>0</td>\n",
       "      <td>0</td>\n",
       "      <td>0</td>\n",
       "      <td>0</td>\n",
       "      <td>0</td>\n",
       "      <td>0</td>\n",
       "      <td>0</td>\n",
       "      <td>...</td>\n",
       "      <td>0</td>\n",
       "      <td>0</td>\n",
       "      <td>0</td>\n",
       "      <td>0</td>\n",
       "      <td>0</td>\n",
       "      <td>0</td>\n",
       "      <td>0</td>\n",
       "      <td>0</td>\n",
       "      <td>0</td>\n",
       "      <td>2</td>\n",
       "    </tr>\n",
       "    <tr>\n",
       "      <td>9490</td>\n",
       "      <td>1</td>\n",
       "      <td>4.0</td>\n",
       "      <td>0</td>\n",
       "      <td>0</td>\n",
       "      <td>0</td>\n",
       "      <td>0</td>\n",
       "      <td>0</td>\n",
       "      <td>0</td>\n",
       "      <td>0</td>\n",
       "      <td>0</td>\n",
       "      <td>...</td>\n",
       "      <td>0</td>\n",
       "      <td>0</td>\n",
       "      <td>0</td>\n",
       "      <td>0</td>\n",
       "      <td>0</td>\n",
       "      <td>0</td>\n",
       "      <td>0</td>\n",
       "      <td>0</td>\n",
       "      <td>0</td>\n",
       "      <td>1</td>\n",
       "    </tr>\n",
       "  </tbody>\n",
       "</table>\n",
       "<p>19 rows × 59 columns</p>\n",
       "</div>"
      ],
      "text/plain": [
       "      Diplome  Experience  vba  c++  mongodb  hbase  python  mysql  cassandra  \\\n",
       "346         2         2.5    0    0        0      0       0      0          0   \n",
       "2058        1        15.0    0    0        0      0       0      0          0   \n",
       "2670        1         1.5    0    0        0      0       0      0          0   \n",
       "2899        3         0.0    0    0        0      0       0      0          0   \n",
       "3346        1         7.0    0    0        0      0       0      0          0   \n",
       "4248        3         2.0    0    0        0      0       0      0          0   \n",
       "4290        3         1.5    0    0        0      0       0      0          0   \n",
       "4292        1         8.0    0    0        0      0       0      0          0   \n",
       "5425        2         5.0    0    0        0      0       0      0          0   \n",
       "5593        1         3.0    0    0        0      0       0      0          0   \n",
       "5712        0         3.0    0    0        0      0       0      0          0   \n",
       "6024        1         1.5    0    0        0      0       0      0          0   \n",
       "6625        2         0.0    0    0        0      0       0      0          0   \n",
       "7091        1         0.0    0    0        0      0       0      0          0   \n",
       "7228        1         2.5    0    0        0      0       0      0          0   \n",
       "7330        3         0.5    0    0        0      0       0      0          0   \n",
       "9087        2         3.5    0    0        0      0       0      0          0   \n",
       "9427        1         1.0    0    0        0      0       0      0          0   \n",
       "9490        1         4.0    0    0        0      0       0      0          0   \n",
       "\n",
       "      windows  ...  nosq  sql  docker  perl  aws  scoring  matlab  pig  \\\n",
       "346         0  ...     0    0       0     0    0        0       0    0   \n",
       "2058        0  ...     0    0       0     0    0        0       0    0   \n",
       "2670        0  ...     0    0       0     0    0        0       0    0   \n",
       "2899        0  ...     0    0       0     0    0        0       0    0   \n",
       "3346        0  ...     0    0       0     0    0        0       0    0   \n",
       "4248        0  ...     0    0       0     0    0        0       0    0   \n",
       "4290        0  ...     0    0       0     0    0        0       0    0   \n",
       "4292        0  ...     0    0       0     0    0        0       0    0   \n",
       "5425        0  ...     0    0       0     0    0        0       0    0   \n",
       "5593        0  ...     0    0       0     0    0        0       0    0   \n",
       "5712        0  ...     0    0       0     0    0        0       0    0   \n",
       "6024        0  ...     0    0       0     0    0        0       0    0   \n",
       "6625        0  ...     0    0       0     0    0        0       0    0   \n",
       "7091        0  ...     0    0       0     0    0        0       0    0   \n",
       "7228        0  ...     0    0       0     0    0        0       0    0   \n",
       "7330        0  ...     0    0       0     0    0        0       0    0   \n",
       "9087        0  ...     0    0       0     0    0        0       0    0   \n",
       "9427        0  ...     0    0       0     0    0        0       0    0   \n",
       "9490        0  ...     0    0       0     0    0        0       0    0   \n",
       "\n",
       "      elasticsearch  Metier  \n",
       "346               0       1  \n",
       "2058              0       2  \n",
       "2670              0       2  \n",
       "2899              0       2  \n",
       "3346              0       2  \n",
       "4248              0       2  \n",
       "4290              0       2  \n",
       "4292              0       3  \n",
       "5425              0       1  \n",
       "5593              0       2  \n",
       "5712              0       2  \n",
       "6024              0       1  \n",
       "6625              0       0  \n",
       "7091              0       2  \n",
       "7228              0       0  \n",
       "7330              0       2  \n",
       "9087              0       0  \n",
       "9427              0       2  \n",
       "9490              0       1  \n",
       "\n",
       "[19 rows x 59 columns]"
      ]
     },
     "execution_count": 63,
     "metadata": {},
     "output_type": "execute_result"
    }
   ],
   "source": [
    "X_test.head()\n",
    "X_test= test.drop([\"Metier\"], axis=1)\n",
    "pred = clf.predict(X_test)\n",
    "X_test['Metier'] = pred\n",
    "X_test"
   ]
  },
  {
   "cell_type": "code",
   "execution_count": null,
   "metadata": {},
   "outputs": [],
   "source": []
  }
 ],
 "metadata": {
  "accelerator": "GPU",
  "colab": {
   "name": "Test_Technique_ML.ipynb",
   "provenance": []
  },
  "kernelspec": {
   "display_name": "Python 3",
   "language": "python",
   "name": "python3"
  },
  "language_info": {
   "codemirror_mode": {
    "name": "ipython",
    "version": 3
   },
   "file_extension": ".py",
   "mimetype": "text/x-python",
   "name": "python",
   "nbconvert_exporter": "python",
   "pygments_lexer": "ipython3",
   "version": "3.7.4"
  }
 },
 "nbformat": 4,
 "nbformat_minor": 1
}
